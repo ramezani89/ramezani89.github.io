{
 "cells": [
  {
   "cell_type": "code",
   "execution_count": null,
   "id": "d71067f9-ca4e-4763-90b9-5d688de3737a",
   "metadata": {
    "tags": []
   },
   "outputs": [],
   "source": [
    "import numpy as np"
   ]
  },
  {
   "cell_type": "code",
   "execution_count": null,
   "id": "acb5802a-0abc-43df-99ea-829efee1c91a",
   "metadata": {},
   "outputs": [],
   "source": [
    "import pandas as pd"
   ]
  },
  {
   "cell_type": "code",
   "execution_count": null,
   "id": "6e97a5a1-c24c-44c2-bcd8-05105cda7ea2",
   "metadata": {},
   "outputs": [],
   "source": [
    "import matplotlib.pyplot as plt"
   ]
  },
  {
   "cell_type": "code",
   "execution_count": null,
   "id": "3504b48c-dcfa-445f-b1d2-4e0a63072835",
   "metadata": {},
   "outputs": [],
   "source": [
    "## Indexing and sorting"
   ]
  },
  {
   "cell_type": "code",
   "execution_count": null,
   "id": "4d8c8e11-118c-422a-a63e-123dca007e8f",
   "metadata": {},
   "outputs": [],
   "source": [
    "h= pd.Series(np.array([1,7,9]))\n",
    "print(h)"
   ]
  },
  {
   "cell_type": "code",
   "execution_count": null,
   "id": "6c6c195e-e01b-4842-9d79-042962a20df2",
   "metadata": {},
   "outputs": [],
   "source": [
    "h.index = ['a', 'b', 'c']\n",
    "print(h)"
   ]
  },
  {
   "cell_type": "code",
   "execution_count": null,
   "id": "37419b21-c855-4a3e-8daa-c9b0449a7ac7",
   "metadata": {},
   "outputs": [],
   "source": [
    "States = pd.read_csv('states_by_country_code.csv')\n",
    "print(States)"
   ]
  },
  {
   "cell_type": "code",
   "execution_count": null,
   "id": "3bcbb57e-a8b5-4bcb-84cf-53f502f07d37",
   "metadata": {},
   "outputs": [],
   "source": [
    "States = States.set_index('State Code')\n",
    "print(States)"
   ]
  },
  {
   "cell_type": "code",
   "execution_count": null,
   "id": "6fccd7bc-bea2-4554-a841-286f16fa4a34",
   "metadata": {},
   "outputs": [],
   "source": [
    "h.reset_index(drop=True)"
   ]
  },
  {
   "cell_type": "code",
   "execution_count": null,
   "id": "aa169955-889b-4e00-a27a-e65a1b141725",
   "metadata": {},
   "outputs": [],
   "source": [
    "States = States.reset_index()\n",
    "States"
   ]
  },
  {
   "cell_type": "code",
   "execution_count": null,
   "id": "646b24b1-5c7a-4609-b42b-b24cb5c19a05",
   "metadata": {},
   "outputs": [],
   "source": [
    "States.sort_values('State Name')"
   ]
  },
  {
   "cell_type": "code",
   "execution_count": null,
   "id": "eebc5cdf-018e-4223-b78f-d951370bb8e6",
   "metadata": {},
   "outputs": [],
   "source": [
    "States.sort_values('State Name', ascending=False)"
   ]
  },
  {
   "cell_type": "markdown",
   "id": "ba5b054d-47df-4789-8f0f-7c580df23ae0",
   "metadata": {},
   "source": [
    "Exercise 1: read in the file country_full.csv, (a) set the index to country-code, (b) reset the index, and (c) sort the table based on column region-code. "
   ]
  },
  {
   "cell_type": "code",
   "execution_count": null,
   "id": "b84e04d2-c022-40e2-a3d2-e4fbffb9e087",
   "metadata": {},
   "outputs": [],
   "source": [
    "country = pd.read_csv('country_full.csv')\n",
    "print(country)"
   ]
  },
  {
   "cell_type": "code",
   "execution_count": null,
   "id": "52e81d1b-0505-4a2b-bfac-8b7e6d0bbc0e",
   "metadata": {},
   "outputs": [],
   "source": [
    "country = country.set_index('country-code')\n",
    "country"
   ]
  },
  {
   "cell_type": "code",
   "execution_count": null,
   "id": "be150a42-377d-4147-ae6c-348c2d184f31",
   "metadata": {},
   "outputs": [],
   "source": [
    "country = country.reset_index()\n",
    "country"
   ]
  },
  {
   "cell_type": "code",
   "execution_count": null,
   "id": "deb1b982-24e4-4f88-befa-8301cbdb88d9",
   "metadata": {},
   "outputs": [],
   "source": [
    "country.sort_values('region-code')"
   ]
  },
  {
   "cell_type": "code",
   "execution_count": null,
   "id": "fb475c92-596b-4cab-aab7-7753deb8002c",
   "metadata": {},
   "outputs": [],
   "source": [
    "###plotting"
   ]
  },
  {
   "cell_type": "code",
   "execution_count": null,
   "id": "164bff49-6a3c-4fa2-a0a1-e08514f5a27b",
   "metadata": {
    "tags": []
   },
   "outputs": [],
   "source": [
    "country = pd.read_csv('country_full.csv')\n",
    "print(country)"
   ]
  },
  {
   "cell_type": "code",
   "execution_count": null,
   "id": "72410ca1-51be-4113-bc04-d8e83e7b26ab",
   "metadata": {},
   "outputs": [],
   "source": [
    "country[['country-code', 'region-code']].hist();"
   ]
  },
  {
   "cell_type": "markdown",
   "id": "81447f8f-32e0-40ed-98c1-8708b66c8146",
   "metadata": {},
   "source": [
    "Try it on 2nd row and all the columns"
   ]
  },
  {
   "cell_type": "code",
   "execution_count": null,
   "id": "3e807885-5440-4420-8efc-1721909e23be",
   "metadata": {},
   "outputs": [],
   "source": [
    "country.iloc[[1], :].hist();"
   ]
  },
  {
   "cell_type": "code",
   "execution_count": null,
   "id": "85bc3a86-05da-466d-9b2e-714dcde74261",
   "metadata": {},
   "outputs": [],
   "source": [
    "country['country-code'].plot();"
   ]
  },
  {
   "cell_type": "code",
   "execution_count": null,
   "id": "9cfa4383-f5a9-4da7-a14c-104c6e6ff674",
   "metadata": {},
   "outputs": [],
   "source": [
    "country.set_index('name')['country-code'].plot(linewidth=2.5, color='green');"
   ]
  },
  {
   "cell_type": "code",
   "execution_count": null,
   "id": "945c8a1d-5aeb-4a94-adad-da93bb0581b7",
   "metadata": {},
   "outputs": [],
   "source": [
    "country.plot.scatter(x='country-code', y='region-code');"
   ]
  },
  {
   "cell_type": "markdown",
   "id": "09ebf458-fe58-4505-83a7-58ac7ecff37c",
   "metadata": {},
   "source": [
    "Exercise 2: Read the climate.csv file to a variable named 'climate', generate a line plot from 'Temperature (Celsius)', in the next step change the index to Country and in the 3rd step create a plot with all 3 variables and set the index to the Date. (put the title and axes labels)"
   ]
  },
  {
   "cell_type": "code",
   "execution_count": null,
   "id": "d3afd8cb-a5d5-4cce-874a-466ac31634a6",
   "metadata": {
    "tags": []
   },
   "outputs": [],
   "source": [
    "climate = pd.read_csv('climate.csv')\n",
    "print(climate)"
   ]
  },
  {
   "cell_type": "code",
   "execution_count": null,
   "id": "d7097d56-7d22-42dc-bb35-6a74ed531283",
   "metadata": {},
   "outputs": [],
   "source": [
    "climate['Temperature (Celsius)'].plot();\n",
    "plt.legend();"
   ]
  },
  {
   "cell_type": "code",
   "execution_count": null,
   "id": "481bdbbf-856d-43ec-8a65-8b775eb22a27",
   "metadata": {
    "tags": []
   },
   "outputs": [],
   "source": [
    "climate.set_index('Country')['Temperature (Celsius)'].plot();\n",
    "plt.xticks(rotation=45, ha='right');\n",
    "plt.legend();"
   ]
  },
  {
   "cell_type": "code",
   "execution_count": null,
   "id": "10ccfdea-89bb-4c2a-a7a1-02e239fe058e",
   "metadata": {},
   "outputs": [],
   "source": [
    "climate = climate.set_index('Country')\n",
    "climate['Temperature (Celsius)'].plot()\n",
    "countries = climate.index.tolist()\n",
    "positions = range(len(countries))\n",
    "plt.xticks(positions,countries, rotation=45, ha='right')\n",
    "plt.show()"
   ]
  },
  {
   "cell_type": "code",
   "execution_count": null,
   "id": "63814654-0a67-450b-a7eb-3deab7c0127f",
   "metadata": {},
   "outputs": [],
   "source": [
    "climate.set_index('Date')[['Temperature (Celsius)', 'Humidity (%)', 'Wind Speed (km/h)']].plot(linewidth=2.5, color=['green', 'blue', 'red']);\n",
    "plt.xticks(rotation=45, ha='right');\n",
    "plt.title('climate', fontsize=16);\n",
    "plt.ylabel('values', fontsize=16);\n",
    "plt.xlabel('Date', fontsize=16);\n",
    "plt.tick_params(axis='both', labelsize=12);"
   ]
  },
  {
   "cell_type": "code",
   "execution_count": null,
   "id": "979e6898-d122-46f2-aab1-87f7401233e5",
   "metadata": {},
   "outputs": [],
   "source": [
    "###Operators"
   ]
  },
  {
   "cell_type": "code",
   "execution_count": null,
   "id": "1319edc3-2164-4e64-8fad-fb403fc984d3",
   "metadata": {
    "tags": []
   },
   "outputs": [],
   "source": [
    "climate = pd.read_csv('climate.csv')\n",
    "print(climate)"
   ]
  },
  {
   "cell_type": "code",
   "execution_count": null,
   "id": "075263bc-f9dd-444e-b131-83c663f00a64",
   "metadata": {},
   "outputs": [],
   "source": [
    "climate['Temperature (Celsius)'].min()"
   ]
  },
  {
   "cell_type": "code",
   "execution_count": null,
   "id": "fab58abb-b1c3-4ab4-88f4-cdcd0786f7e0",
   "metadata": {},
   "outputs": [],
   "source": [
    "climate['Temperature (Celsius)'].max()"
   ]
  },
  {
   "cell_type": "code",
   "execution_count": null,
   "id": "e3b8f887-f897-4dee-a57a-f0563f10121e",
   "metadata": {},
   "outputs": [],
   "source": [
    "climate['Temperature (Celsius)'].mean()"
   ]
  },
  {
   "cell_type": "code",
   "execution_count": null,
   "id": "d76f89f9-b3aa-4063-a12c-18971d6834c0",
   "metadata": {},
   "outputs": [],
   "source": [
    "climate[['Temperature (Celsius)','Humidity (%)']].mean()"
   ]
  },
  {
   "cell_type": "code",
   "execution_count": null,
   "id": "4bebf5a4-601f-432d-ad7f-fd216b30d1bb",
   "metadata": {},
   "outputs": [],
   "source": [
    "climate[['Temperature (Celsius)','Humidity (%)']]-10"
   ]
  },
  {
   "cell_type": "code",
   "execution_count": null,
   "id": "670ce221-d0c4-4526-ad79-23fd69957a89",
   "metadata": {},
   "outputs": [],
   "source": [
    "climate['df'] = climate['Temperature (Celsius)'] - climate['Humidity (%)']\n",
    "print(climate)"
   ]
  },
  {
   "cell_type": "code",
   "execution_count": null,
   "id": "504d2946-4ae1-4505-8bcf-47d897cf3de7",
   "metadata": {},
   "outputs": [],
   "source": [
    "climate.set_index('Date')['df'].plot();\n",
    "plt.xticks(rotation=45);"
   ]
  },
  {
   "cell_type": "markdown",
   "id": "ef02d6a5-69a2-476c-8c95-cddfd4fe0923",
   "metadata": {},
   "source": [
    "Exercise 3: create a column as the sum of the wind speed and humidity and create a scatter plot between the new column and the temperature"
   ]
  },
  {
   "cell_type": "code",
   "execution_count": null,
   "id": "9e7952f1-513a-4418-926e-a2eb3333ff11",
   "metadata": {},
   "outputs": [],
   "source": [
    "climate['sum'] = climate['Wind Speed (km/h)'] + climate['Humidity (%)']\n",
    "print(climate)"
   ]
  },
  {
   "cell_type": "code",
   "execution_count": null,
   "id": "a97ebdf6-36c3-4909-b7b3-54ea5384a56f",
   "metadata": {},
   "outputs": [],
   "source": [
    "climate.plot.scatter(x='sum', y='Temperature (Celsius)');"
   ]
  },
  {
   "cell_type": "markdown",
   "id": "6781559b-e9e2-41e2-92e8-29e7b53ba28b",
   "metadata": {},
   "source": [
    "Exercise 4: Add a column named 'rain' with an duplicated value over all rows"
   ]
  },
  {
   "cell_type": "code",
   "execution_count": null,
   "id": "c6e05204-0775-4df3-ae40-4ad399f8f6bd",
   "metadata": {},
   "outputs": [],
   "source": [
    "climate['rain'] = 12\n",
    "climate"
   ]
  },
  {
   "cell_type": "code",
   "execution_count": null,
   "id": "f25cfa44-7e69-4651-a243-98043647e761",
   "metadata": {},
   "outputs": [],
   "source": [
    "climate = climate.drop(['sum'], axis=1)\n",
    "climate"
   ]
  },
  {
   "cell_type": "code",
   "execution_count": null,
   "id": "381870ee-bdfd-4118-a9e4-0be9403d7df0",
   "metadata": {},
   "outputs": [],
   "source": [
    "##filtering and assign"
   ]
  },
  {
   "cell_type": "code",
   "execution_count": null,
   "id": "fbdf331f-f1bb-4c3f-912f-68f9a46a4e46",
   "metadata": {},
   "outputs": [],
   "source": [
    "climate[climate['Temperature (Celsius)'] > 22]"
   ]
  },
  {
   "cell_type": "code",
   "execution_count": null,
   "id": "9dcce1f3-e325-4bc2-83a8-925b758c51bc",
   "metadata": {},
   "outputs": [],
   "source": [
    "new_filter = (climate['Temperature (Celsius)'] == 18.9) | (climate['Temperature (Celsius)'] == 20.1)\n",
    "climate[new_filter]"
   ]
  },
  {
   "cell_type": "code",
   "execution_count": null,
   "id": "fd6e8476-4fe8-484d-9392-88e44681bfaa",
   "metadata": {},
   "outputs": [],
   "source": [
    "new_filter = climate['Temperature (Celsius)'].isin([18.9,20.1])\n",
    "climate[new_filter]"
   ]
  },
  {
   "cell_type": "code",
   "execution_count": null,
   "id": "ef1b0b5d-d093-488e-90e9-db44d2c576bf",
   "metadata": {
    "tags": []
   },
   "outputs": [],
   "source": [
    "climate.loc[climate['Temperature (Celsius)'] > 18.9, 'Temperature (Celsius)'] = 20\n",
    "climate"
   ]
  },
  {
   "cell_type": "markdown",
   "id": "f76a8995-48cc-409a-948f-5f9bb0098817",
   "metadata": {},
   "source": [
    "Exercise 5: substitute the humidity values above 60 with 65 in the 'Humidity (%)' column of the 'climate' DataFrame"
   ]
  },
  {
   "cell_type": "code",
   "execution_count": null,
   "id": "b540c71e-4bb7-4a77-9be1-9df199ed07f4",
   "metadata": {},
   "outputs": [],
   "source": [
    "climate.loc[climate['Humidity (%)'] > 60, 'Humidity (%)'] = 65\n",
    "climate"
   ]
  },
  {
   "cell_type": "code",
   "execution_count": null,
   "id": "225ee8f6-3874-4750-b9ba-bd7cf0ee7a7f",
   "metadata": {},
   "outputs": [],
   "source": [
    "##copy"
   ]
  },
  {
   "cell_type": "code",
   "execution_count": null,
   "id": "9dcaf47b-6180-428d-b453-02af7544415d",
   "metadata": {},
   "outputs": [],
   "source": [
    "currency = pd.read_csv('currency.csv')\n",
    "print(currency)"
   ]
  },
  {
   "cell_type": "code",
   "execution_count": null,
   "id": "3b00a46c-9619-4386-b422-7a9ebdc0862e",
   "metadata": {},
   "outputs": [],
   "source": [
    "currency2 = currency"
   ]
  },
  {
   "cell_type": "code",
   "execution_count": null,
   "id": "fe45c386-3d8e-44ca-84a5-2589177eafbb",
   "metadata": {},
   "outputs": [],
   "source": [
    "currency2.iloc[1, 1] = 50\n",
    "currency2"
   ]
  },
  {
   "cell_type": "code",
   "execution_count": null,
   "id": "d314f34e-77fc-47af-9bf8-0719a2ae086b",
   "metadata": {},
   "outputs": [],
   "source": [
    "currency"
   ]
  },
  {
   "cell_type": "code",
   "execution_count": null,
   "id": "8d6b63d9-5d62-4c44-abda-3ad064158526",
   "metadata": {
    "tags": []
   },
   "outputs": [],
   "source": [
    "currency = pd.read_csv('currency.csv')\n",
    "print(currency)"
   ]
  },
  {
   "cell_type": "code",
   "execution_count": null,
   "id": "591c920d-2c86-415a-9ccc-ec743ca6d18f",
   "metadata": {},
   "outputs": [],
   "source": [
    "currency2 = currency.copy()"
   ]
  },
  {
   "cell_type": "code",
   "execution_count": null,
   "id": "ac1a73a8-6f68-4a09-bc44-479c6e1627da",
   "metadata": {},
   "outputs": [],
   "source": [
    "currency2.iloc[1, 1] = 50\n",
    "currency2"
   ]
  },
  {
   "cell_type": "code",
   "execution_count": null,
   "id": "2382c611-2003-4563-818e-75ccc89a245b",
   "metadata": {},
   "outputs": [],
   "source": [
    "currency"
   ]
  },
  {
   "cell_type": "markdown",
   "id": "21a31399-1bab-4df6-b8a1-f19993e05cfa",
   "metadata": {},
   "source": [
    "Exercise 6: read in the climate.csv file again, make a copy of the table, substitude the wind speeds equall to 13 and 8 with 10 (with both conditional and isin methods) and creat a plot of wind speed with respect to the countries name, include title, labels and legend in your figure"
   ]
  },
  {
   "cell_type": "code",
   "execution_count": null,
   "id": "71d8e7bc-5c93-43ac-af68-fbdb548d4332",
   "metadata": {},
   "outputs": [],
   "source": [
    "climate = pd.read_csv('climate.csv')"
   ]
  },
  {
   "cell_type": "code",
   "execution_count": null,
   "id": "655ca9af-285a-403b-8eb9-c17d213a7024",
   "metadata": {},
   "outputs": [],
   "source": [
    "climate_copy = climate.copy()\n"
   ]
  },
  {
   "cell_type": "code",
   "execution_count": null,
   "id": "edcbb7d4-e5df-449d-bed8-711afaf9fcfd",
   "metadata": {},
   "outputs": [],
   "source": [
    "climate_copy.loc[climate_copy['Wind Speed (km/h)'] == 13, 'Wind Speed (km/h)'] = 10\n",
    "climate_copy.loc[climate_copy['Wind Speed (km/h)'] == 8, 'Wind Speed (km/h)'] = 10"
   ]
  },
  {
   "cell_type": "code",
   "execution_count": null,
   "id": "f066c354-dbb4-422d-937a-72552a8237dc",
   "metadata": {},
   "outputs": [],
   "source": [
    "climate_copy.loc[climate_copy['Wind Speed (km/h)'].isin([13, 8]), 'Wind Speed (km/h)'] = 10\n"
   ]
  },
  {
   "cell_type": "code",
   "execution_count": null,
   "id": "047fa4fa-81bb-42ee-b1b2-2a0f0baa26f8",
   "metadata": {},
   "outputs": [],
   "source": [
    "climate_copy.plot(x='Country', y='Wind Speed (km/h)');\n",
    "plt.title('Wind Speed in Different Countries');\n",
    "plt.xticks(rotation=45, ha='right');\n",
    "plt.xlabel('Country');\n",
    "plt.ylabel('Wind Speed');\n",
    "plt.legend();\n",
    "plt.show()"
   ]
  },
  {
   "cell_type": "markdown",
   "id": "5ccab5c3-5a8a-4142-a194-6c474010c1d3",
   "metadata": {},
   "source": [
    "Exercise 7: Make a copy of the currency file in which the value in the 2nd row and 3rd column has been substituted, and save this new file."
   ]
  },
  {
   "cell_type": "code",
   "execution_count": null,
   "id": "68ebbbe6-b9c8-4b9c-8401-2e38a0ff5d47",
   "metadata": {},
   "outputs": [],
   "source": [
    "currency_data = pd.read_csv('currency.csv')\n",
    "currency_data_copy = currency_data.copy()\n",
    "currency_data_copy.iloc[1, 2]=10\n",
    "currency_data_copy.to_csv('currency_modified.csv', index=False)"
   ]
  },
  {
   "cell_type": "code",
   "execution_count": null,
   "id": "10eb896c-5259-4744-933c-3f680ebaac43",
   "metadata": {},
   "outputs": [],
   "source": [
    "Reference: https://jupyter.org https://the-turing-way.netlify.app/communication/binder/zero-to-binder.html https://docs.python.org https://wsform.com/knowledgebase/sample-csv-files/ https://geobgu.xyz/py/"
   ]
  }
 ],
 "metadata": {
  "kernelspec": {
   "display_name": "Python 3 (ipykernel)",
   "language": "python",
   "name": "python3"
  },
  "language_info": {
   "codemirror_mode": {
    "name": "ipython",
    "version": 3
   },
   "file_extension": ".py",
   "mimetype": "text/x-python",
   "name": "python",
   "nbconvert_exporter": "python",
   "pygments_lexer": "ipython3",
   "version": "3.10.10"
  }
 },
 "nbformat": 4,
 "nbformat_minor": 5
}
