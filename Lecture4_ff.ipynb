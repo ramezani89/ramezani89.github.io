{
 "cells": [
  {
   "cell_type": "code",
   "execution_count": 1,
   "id": "c053deb2-1c68-471c-9f41-524a20751289",
   "metadata": {
    "tags": []
   },
   "outputs": [],
   "source": [
    "import numpy as np"
   ]
  },
  {
   "cell_type": "code",
   "execution_count": 2,
   "id": "e892fecc-cf90-47f3-8569-cce72a813a2c",
   "metadata": {},
   "outputs": [
    {
     "name": "stdout",
     "output_type": "stream",
     "text": [
      "[ 5  4 -7 11]\n"
     ]
    }
   ],
   "source": [
    "x = np.array([5, 4, -7, 11])\n",
    "print(x)"
   ]
  },
  {
   "cell_type": "code",
   "execution_count": 3,
   "id": "0c51dde9-a61a-4e97-9066-0a5e6d1238bf",
   "metadata": {},
   "outputs": [
    {
     "data": {
      "text/plain": [
       "13"
      ]
     },
     "execution_count": 3,
     "metadata": {},
     "output_type": "execute_result"
    }
   ],
   "source": [
    "np.sum(x)"
   ]
  },
  {
   "cell_type": "code",
   "execution_count": 4,
   "id": "4a7fcd8f-92e2-46fc-a2f0-803c56a5ca7f",
   "metadata": {},
   "outputs": [
    {
     "name": "stdout",
     "output_type": "stream",
     "text": [
      "[[4 5 0]\n",
      " [3 7 9]\n",
      " [2 1 2]]\n"
     ]
    }
   ],
   "source": [
    "y = np.array([[4, 5, 0], [3, 7, 9], [2, 1, 2]])\n",
    "print(y)\n"
   ]
  },
  {
   "cell_type": "code",
   "execution_count": 5,
   "id": "26169242-623b-4724-86aa-b11b82b00f8d",
   "metadata": {},
   "outputs": [
    {
     "data": {
      "text/plain": [
       "array([ 9, 13, 11])"
      ]
     },
     "execution_count": 5,
     "metadata": {},
     "output_type": "execute_result"
    }
   ],
   "source": [
    "np.sum(y, axis=0)"
   ]
  },
  {
   "cell_type": "code",
   "execution_count": 6,
   "id": "8cee4ce0-e8de-4545-8726-d0ed66b53f5e",
   "metadata": {},
   "outputs": [
    {
     "data": {
      "text/plain": [
       "array([ 9, 19,  5])"
      ]
     },
     "execution_count": 6,
     "metadata": {},
     "output_type": "execute_result"
    }
   ],
   "source": [
    "np.sum(y, axis=1)"
   ]
  },
  {
   "cell_type": "code",
   "execution_count": 7,
   "id": "4f14b006-148b-46e3-b589-bc001312640b",
   "metadata": {},
   "outputs": [
    {
     "name": "stdout",
     "output_type": "stream",
     "text": [
      "[[[ 1  2  3]\n",
      "  [ 4  5  6]\n",
      "  [ 7  8  9]]\n",
      "\n",
      " [[10 11 12]\n",
      "  [13 14 15]\n",
      "  [16 17 18]]]\n"
     ]
    }
   ],
   "source": [
    "z = np.array([[[1,2,3], [4,5,6], [7,8,9]], [[10,11,12], [13,14,15], [16,17,18]]])\n",
    "print(z)"
   ]
  },
  {
   "cell_type": "code",
   "execution_count": 8,
   "id": "d0a72dae-759e-4cd2-bbf0-0382f0b9b6ac",
   "metadata": {
    "tags": []
   },
   "outputs": [
    {
     "data": {
      "text/plain": [
       "array([[11, 13, 15],\n",
       "       [17, 19, 21],\n",
       "       [23, 25, 27]])"
      ]
     },
     "execution_count": 8,
     "metadata": {},
     "output_type": "execute_result"
    }
   ],
   "source": [
    "##row-column\n",
    "np.sum(z, axis=0)"
   ]
  },
  {
   "cell_type": "code",
   "execution_count": 9,
   "id": "2a9364c4-5b5e-49f6-a2a1-a20dc623f1d9",
   "metadata": {},
   "outputs": [
    {
     "data": {
      "text/plain": [
       "array([[12, 15, 18],\n",
       "       [39, 42, 45]])"
      ]
     },
     "execution_count": 9,
     "metadata": {},
     "output_type": "execute_result"
    }
   ],
   "source": [
    "##column-layer\n",
    "np.sum(z, axis=1)"
   ]
  },
  {
   "cell_type": "code",
   "execution_count": 10,
   "id": "8cd47538-4066-4b38-a9db-bc8d71fc8ec3",
   "metadata": {
    "tags": []
   },
   "outputs": [
    {
     "data": {
      "text/plain": [
       "array([[ 6, 15, 24],\n",
       "       [33, 42, 51]])"
      ]
     },
     "execution_count": 10,
     "metadata": {},
     "output_type": "execute_result"
    }
   ],
   "source": [
    "##row-layer\n",
    "np.sum(z, axis=2)"
   ]
  },
  {
   "cell_type": "code",
   "execution_count": 11,
   "id": "79f52335-c11b-4c47-85fa-da5788cbe2d5",
   "metadata": {},
   "outputs": [
    {
     "data": {
      "text/plain": [
       "array([[ 6, 33],\n",
       "       [15, 42],\n",
       "       [24, 51]])"
      ]
     },
     "execution_count": 11,
     "metadata": {},
     "output_type": "execute_result"
    }
   ],
   "source": [
    "f=np.sum(z, axis=2)\n",
    "np.transpose(f)"
   ]
  },
  {
   "cell_type": "markdown",
   "id": "75262eda-359b-4c20-8f7e-caf3af04634a",
   "metadata": {},
   "source": [
    "Exercise1: Calculate the mean of all column in each layer from array z."
   ]
  },
  {
   "cell_type": "code",
   "execution_count": 12,
   "id": "51929b56-decc-40ed-8489-2490dae67987",
   "metadata": {},
   "outputs": [],
   "source": [
    "##reading the data from the file"
   ]
  },
  {
   "cell_type": "code",
   "execution_count": 13,
   "id": "65a96e12-2549-4af2-89da-04883b2127b4",
   "metadata": {},
   "outputs": [
    {
     "name": "stdout",
     "output_type": "stream",
     "text": [
      "[[nan nan nan]\n",
      " [ 1. 25.  3.]\n",
      " [ 5. 30.  4.]\n",
      " [ 6. 28.  9.]]\n"
     ]
    }
   ],
   "source": [
    "b = np.genfromtxt('sample.txt', delimiter=';')\n",
    "print(b)                  "
   ]
  },
  {
   "cell_type": "code",
   "execution_count": 14,
   "id": "9e18449b-11ab-4b43-be21-dd91e51cd1d4",
   "metadata": {},
   "outputs": [
    {
     "name": "stdout",
     "output_type": "stream",
     "text": [
      "[[ 1. 25.  3.]\n",
      " [ 5. 30.  4.]\n",
      " [ 6. 28.  9.]]\n"
     ]
    }
   ],
   "source": [
    "b = np.genfromtxt('sample.txt', delimiter=';', skip_header=1)\n",
    "print(b)"
   ]
  },
  {
   "cell_type": "code",
   "execution_count": 15,
   "id": "b04a7b27-58f0-4e35-a671-60a41935e4c0",
   "metadata": {},
   "outputs": [],
   "source": [
    "np.savetxt(\"y.txt\", y, delimiter=\",\", header=\"name,id,region\")"
   ]
  },
  {
   "cell_type": "markdown",
   "id": "6ec297f9-14c5-4279-a9c2-9f92b3ea2292",
   "metadata": {},
   "source": [
    "Exercise2: Create a 2D array and use the np.savetxt() function to save the data array to a text file named \"mydata.txt\" with a comma delimiter and a header line Col1,Col2,Col3,Col4"
   ]
  },
  {
   "cell_type": "code",
   "execution_count": 16,
   "id": "36b5637e-19c3-4533-b159-62d561b0579d",
   "metadata": {},
   "outputs": [],
   "source": [
    "## ploting an array"
   ]
  },
  {
   "cell_type": "code",
   "execution_count": 17,
   "id": "e71429e2-083a-46b4-a1f6-76097e02c54a",
   "metadata": {},
   "outputs": [],
   "source": [
    "import matplotlib.pyplot as plt"
   ]
  },
  {
   "cell_type": "code",
   "execution_count": 18,
   "id": "2241dc47-8dba-45ac-844d-9dfaf0a5bd24",
   "metadata": {},
   "outputs": [
    {
     "data": {
      "text/plain": [
       "array([4, 5, 0, 3, 7, 9, 2, 1, 2])"
      ]
     },
     "execution_count": 18,
     "metadata": {},
     "output_type": "execute_result"
    }
   ],
   "source": [
    "h = y.flatten()\n",
    "h"
   ]
  },
  {
   "cell_type": "code",
   "execution_count": 19,
   "id": "428023b5-b66a-4e11-a624-d7909ec6b8d6",
   "metadata": {},
   "outputs": [
    {
     "data": {
      "image/png": "[encoded data removed]",
      "text/plain": [
       "<Figure size 640x480 with 1 Axes>"
      ]
     },
     "metadata": {},
     "output_type": "display_data"
    }
   ],
   "source": [
    "plt.hist(h);"
   ]
  },
  {
   "cell_type": "code",
   "execution_count": 20,
   "id": "1ca8cf6a-05a1-495b-8b77-c169157287f3",
   "metadata": {},
   "outputs": [
    {
     "data": {
      "image/png": "[encoded data removed]",
      "text/plain": [
       "<Figure size 640x480 with 1 Axes>"
      ]
     },
     "metadata": {},
     "output_type": "display_data"
    }
   ],
   "source": [
    "plt.plot(y[1, :]);"
   ]
  },
  {
   "cell_type": "code",
   "execution_count": 21,
   "id": "8ff573bb-900a-4f80-b800-cc282bc6d30f",
   "metadata": {},
   "outputs": [
    {
     "data": {
      "image/png": "[encoded data removed]",
      "text/plain": [
       "<Figure size 640x480 with 1 Axes>"
      ]
     },
     "metadata": {},
     "output_type": "display_data"
    }
   ],
   "source": [
    "plt.plot(y[:, 1]);"
   ]
  },
  {
   "cell_type": "code",
   "execution_count": 22,
   "id": "77e895a6-a4bb-4aab-b6f1-446faa249f00",
   "metadata": {},
   "outputs": [
    {
     "data": {
      "image/png": "[encoded data removed]",
      "text/plain": [
       "<Figure size 640x480 with 1 Axes>"
      ]
     },
     "metadata": {},
     "output_type": "display_data"
    }
   ],
   "source": [
    "plt.plot(y);"
   ]
  },
  {
   "cell_type": "code",
   "execution_count": 23,
   "id": "1e5b3baf-2fdb-47c8-9218-7c9dc63cc5a3",
   "metadata": {},
   "outputs": [
    {
     "data": {
      "text/plain": [
       "<matplotlib.colorbar.Colorbar at 0x7f880e81d6c0>"
      ]
     },
     "execution_count": 23,
     "metadata": {},
     "output_type": "execute_result"
    },
    {
     "data": {
      "image/png": "[encoded data removed]",
      "text/plain": [
       "<Figure size 640x480 with 2 Axes>"
      ]
     },
     "metadata": {},
     "output_type": "display_data"
    }
   ],
   "source": [
    "plt.imshow(y);\n",
    "plt.colorbar()"
   ]
  },
  {
   "cell_type": "code",
   "execution_count": 24,
   "id": "b85f3459-b4a6-493f-bee4-1d0175d3b4ac",
   "metadata": {},
   "outputs": [],
   "source": [
    "##practice with plotting on different arrays"
   ]
  },
  {
   "cell_type": "code",
   "execution_count": 25,
   "id": "8904ae81-60f6-4819-9112-c917c1aec223",
   "metadata": {},
   "outputs": [
    {
     "data": {
      "image/png": "[encoded data removed]",
      "text/plain": [
       "<Figure size 640x480 with 1 Axes>"
      ]
     },
     "metadata": {},
     "output_type": "display_data"
    }
   ],
   "source": [
    "data = np.array([1, 2, 3, 4, 5, 6, 7, 8, 9, 10])\n",
    "\n",
    "plt.hist(data, bins=[0,2,4,6,8,10])\n",
    "plt.title('My Histogram')\n",
    "plt.xlabel('Interval')\n",
    "plt.ylabel('Frequency')\n",
    "plt.show()\n"
   ]
  },
  {
   "cell_type": "markdown",
   "id": "07a3ee52-496f-46bd-9846-aea1d023023d",
   "metadata": {},
   "source": [
    "Exercise3: Given an 2D array of numbers, plot a graph that displays the sum of each element in the column.\n"
   ]
  },
  {
   "cell_type": "code",
   "execution_count": 26,
   "id": "67d2ff77-916a-433e-a08a-e82cdf948462",
   "metadata": {},
   "outputs": [],
   "source": [
    "## tables (pandas)"
   ]
  },
  {
   "cell_type": "code",
   "execution_count": 27,
   "id": "90f275e1-a450-4ef5-a780-5e595e007851",
   "metadata": {},
   "outputs": [],
   "source": [
    "import pandas as pd"
   ]
  },
  {
   "cell_type": "code",
   "execution_count": 28,
   "id": "97fad1db-8dba-43f7-9e28-c9d02517f204",
   "metadata": {},
   "outputs": [
    {
     "name": "stdout",
     "output_type": "stream",
     "text": [
      "0    a\n",
      "1    b\n",
      "2    c\n",
      "dtype: object\n"
     ]
    }
   ],
   "source": [
    "g = pd.Series(['a', 'b', 'c'])\n",
    "print(g)"
   ]
  },
  {
   "cell_type": "code",
   "execution_count": 29,
   "id": "32b2efd4-e2f4-4f50-93c1-8475c3e59b60",
   "metadata": {},
   "outputs": [
    {
     "name": "stdout",
     "output_type": "stream",
     "text": [
      "0    1\n",
      "1    7\n",
      "2    9\n",
      "dtype: int64\n"
     ]
    }
   ],
   "source": [
    "h= pd.Series(np.array([1,7,9]))\n",
    "print(h)"
   ]
  },
  {
   "cell_type": "code",
   "execution_count": 30,
   "id": "6e6e43c6-afd1-4aa8-acd7-2cec4a0f10f8",
   "metadata": {},
   "outputs": [
    {
     "data": {
      "text/plain": [
       "(3,)"
      ]
     },
     "execution_count": 30,
     "metadata": {},
     "output_type": "execute_result"
    }
   ],
   "source": [
    "h.shape"
   ]
  },
  {
   "cell_type": "markdown",
   "id": "5db6e9f1-a2cf-40c8-893c-a0b0373534b0",
   "metadata": {},
   "source": [
    "Exercise4: create a table (series data structure) from an array of numbers and check for the shape."
   ]
  },
  {
   "cell_type": "code",
   "execution_count": 31,
   "id": "001335f9-95b2-4bac-993d-0fff8f9de86d",
   "metadata": {},
   "outputs": [
    {
     "name": "stdout",
     "output_type": "stream",
     "text": [
      "0    7\n",
      "1    8\n",
      "2    9\n",
      "dtype: int64\n"
     ]
    }
   ],
   "source": [
    "i= pd.Series([7, 8, 9])\n",
    "print(i)"
   ]
  },
  {
   "cell_type": "code",
   "execution_count": 32,
   "id": "2bd1f330-8743-476a-8c8d-b9058b8d3335",
   "metadata": {},
   "outputs": [
    {
     "name": "stdout",
     "output_type": "stream",
     "text": [
      "  ID  value  condition\n",
      "0  a      1          7\n",
      "1  b      7          8\n",
      "2  c      9          9\n"
     ]
    }
   ],
   "source": [
    "dataframe_dict = {'ID': g, 'value': h, 'condition': i}\n",
    "dataframe = pd.DataFrame(dataframe_dict)\n",
    "print(dataframe)"
   ]
  },
  {
   "cell_type": "code",
   "execution_count": 33,
   "id": "18547518-2e38-4e92-8fee-cb5e5016c2b2",
   "metadata": {},
   "outputs": [
    {
     "data": {
      "text/plain": [
       "RangeIndex(start=0, stop=3, step=1)"
      ]
     },
     "execution_count": 33,
     "metadata": {},
     "output_type": "execute_result"
    }
   ],
   "source": [
    "dataframe.index"
   ]
  },
  {
   "cell_type": "code",
   "execution_count": 34,
   "id": "b51fa9be-c2a5-469d-b1d3-100c32560181",
   "metadata": {},
   "outputs": [
    {
     "data": {
      "text/plain": [
       "Index(['ID', 'value', 'condition'], dtype='object')"
      ]
     },
     "execution_count": 34,
     "metadata": {},
     "output_type": "execute_result"
    }
   ],
   "source": [
    "dataframe.columns"
   ]
  },
  {
   "cell_type": "markdown",
   "id": "77fca856-b376-4367-bb40-099edb685dfe",
   "metadata": {},
   "source": [
    "Exercise5:create a table (dataframe structure) from multiple series (including boolean and numiric) and check the shape."
   ]
  },
  {
   "cell_type": "code",
   "execution_count": 35,
   "id": "6254ab25-98fd-444e-aa75-8ebd7e749829",
   "metadata": {},
   "outputs": [
    {
     "name": "stdout",
     "output_type": "stream",
     "text": [
      "                  name alpha-2 alpha-3  country-code     iso_3166-2   region   \n",
      "0          Afghanistan      AF     AFG             4  ISO 3166-2:AF     Asia  \\\n",
      "1        Åland Islands      AX     ALA           248  ISO 3166-2:AX   Europe   \n",
      "2              Albania      AL     ALB             8  ISO 3166-2:AL   Europe   \n",
      "3              Algeria      DZ     DZA            12  ISO 3166-2:DZ   Africa   \n",
      "4       American Samoa      AS     ASM            16  ISO 3166-2:AS  Oceania   \n",
      "..                 ...     ...     ...           ...            ...      ...   \n",
      "244  Wallis and Futuna      WF     WLF           876  ISO 3166-2:WF  Oceania   \n",
      "245     Western Sahara      EH     ESH           732  ISO 3166-2:EH   Africa   \n",
      "246              Yemen      YE     YEM           887  ISO 3166-2:YE     Asia   \n",
      "247             Zambia      ZM     ZMB           894  ISO 3166-2:ZM   Africa   \n",
      "248           Zimbabwe      ZW     ZWE           716  ISO 3166-2:ZW   Africa   \n",
      "\n",
      "             sub-region intermediate-region  region-code  sub-region-code   \n",
      "0         Southern Asia                 NaN        142.0             34.0  \\\n",
      "1       Northern Europe                 NaN        150.0            154.0   \n",
      "2       Southern Europe                 NaN        150.0             39.0   \n",
      "3       Northern Africa                 NaN          2.0             15.0   \n",
      "4             Polynesia                 NaN          9.0             61.0   \n",
      "..                  ...                 ...          ...              ...   \n",
      "244           Polynesia                 NaN          9.0             61.0   \n",
      "245     Northern Africa                 NaN          2.0             15.0   \n",
      "246        Western Asia                 NaN        142.0            145.0   \n",
      "247  Sub-Saharan Africa      Eastern Africa          2.0            202.0   \n",
      "248  Sub-Saharan Africa      Eastern Africa          2.0            202.0   \n",
      "\n",
      "     intermediate-region-code  \n",
      "0                         NaN  \n",
      "1                         NaN  \n",
      "2                         NaN  \n",
      "3                         NaN  \n",
      "4                         NaN  \n",
      "..                        ...  \n",
      "244                       NaN  \n",
      "245                       NaN  \n",
      "246                       NaN  \n",
      "247                      14.0  \n",
      "248                      14.0  \n",
      "\n",
      "[249 rows x 11 columns]\n"
     ]
    }
   ],
   "source": [
    "country = pd.read_csv('country_full.csv')\n",
    "print(country)"
   ]
  },
  {
   "cell_type": "code",
   "execution_count": 36,
   "id": "29d5ae13-30cb-4da3-9593-2fdc948b0f9d",
   "metadata": {},
   "outputs": [
    {
     "data": {
      "text/plain": [
       "Index(['name', 'alpha-2', 'alpha-3', 'country-code', 'iso_3166-2', 'region',\n",
       "       'sub-region', 'intermediate-region', 'region-code', 'sub-region-code',\n",
       "       'intermediate-region-code'],\n",
       "      dtype='object')"
      ]
     },
     "execution_count": 36,
     "metadata": {},
     "output_type": "execute_result"
    }
   ],
   "source": [
    "country.columns"
   ]
  },
  {
   "cell_type": "code",
   "execution_count": 37,
   "id": "65b620fd-b4ee-4692-8fd8-2accdb6ca896",
   "metadata": {},
   "outputs": [
    {
     "data": {
      "text/plain": [
       "RangeIndex(start=0, stop=249, step=1)"
      ]
     },
     "execution_count": 37,
     "metadata": {},
     "output_type": "execute_result"
    }
   ],
   "source": [
    "country.index"
   ]
  },
  {
   "cell_type": "code",
   "execution_count": 38,
   "id": "8fb47cb7-d9f6-4a52-84f1-e4f79a682e77",
   "metadata": {},
   "outputs": [
    {
     "data": {
      "text/plain": [
       "(249, 11)"
      ]
     },
     "execution_count": 38,
     "metadata": {},
     "output_type": "execute_result"
    }
   ],
   "source": [
    "country.shape"
   ]
  },
  {
   "cell_type": "code",
   "execution_count": 39,
   "id": "f0c64e75-a4da-426e-8892-725e507428f8",
   "metadata": {},
   "outputs": [
    {
     "data": {
      "text/plain": [
       "name                         object\n",
       "alpha-2                      object\n",
       "alpha-3                      object\n",
       "country-code                  int64\n",
       "iso_3166-2                   object\n",
       "region                       object\n",
       "sub-region                   object\n",
       "intermediate-region          object\n",
       "region-code                 float64\n",
       "sub-region-code             float64\n",
       "intermediate-region-code    float64\n",
       "dtype: object"
      ]
     },
     "execution_count": 39,
     "metadata": {},
     "output_type": "execute_result"
    }
   ],
   "source": [
    "country.dtypes"
   ]
  },
  {
   "cell_type": "code",
   "execution_count": 40,
   "id": "78f8db41-6943-4548-a2c9-876a90ca6187",
   "metadata": {},
   "outputs": [
    {
     "data": {
      "text/html": [
       "<div>\n",
       "<style scoped>\n",
       "    .dataframe tbody tr th:only-of-type {\n",
       "        vertical-align: middle;\n",
       "    }\n",
       "\n",
       "    .dataframe tbody tr th {\n",
       "        vertical-align: top;\n",
       "    }\n",
       "\n",
       "    .dataframe thead th {\n",
       "        text-align: right;\n",
       "    }\n",
       "</style>\n",
       "<table border=\"1\" class=\"dataframe\">\n",
       "  <thead>\n",
       "    <tr style=\"text-align: right;\">\n",
       "      <th></th>\n",
       "      <th>name</th>\n",
       "      <th>alpha-2</th>\n",
       "      <th>alpha-3</th>\n",
       "      <th>country-code</th>\n",
       "      <th>iso_3166-2</th>\n",
       "      <th>REGION</th>\n",
       "      <th>sub-region</th>\n",
       "      <th>intermediate-region</th>\n",
       "      <th>region-code</th>\n",
       "      <th>sub-region-code</th>\n",
       "      <th>intermediate-region-code</th>\n",
       "    </tr>\n",
       "  </thead>\n",
       "  <tbody>\n",
       "    <tr>\n",
       "      <th>0</th>\n",
       "      <td>Afghanistan</td>\n",
       "      <td>AF</td>\n",
       "      <td>AFG</td>\n",
       "      <td>4</td>\n",
       "      <td>ISO 3166-2:AF</td>\n",
       "      <td>Asia</td>\n",
       "      <td>Southern Asia</td>\n",
       "      <td>NaN</td>\n",
       "      <td>142.0</td>\n",
       "      <td>34.0</td>\n",
       "      <td>NaN</td>\n",
       "    </tr>\n",
       "    <tr>\n",
       "      <th>1</th>\n",
       "      <td>Åland Islands</td>\n",
       "      <td>AX</td>\n",
       "      <td>ALA</td>\n",
       "      <td>248</td>\n",
       "      <td>ISO 3166-2:AX</td>\n",
       "      <td>Europe</td>\n",
       "      <td>Northern Europe</td>\n",
       "      <td>NaN</td>\n",
       "      <td>150.0</td>\n",
       "      <td>154.0</td>\n",
       "      <td>NaN</td>\n",
       "    </tr>\n",
       "    <tr>\n",
       "      <th>2</th>\n",
       "      <td>Albania</td>\n",
       "      <td>AL</td>\n",
       "      <td>ALB</td>\n",
       "      <td>8</td>\n",
       "      <td>ISO 3166-2:AL</td>\n",
       "      <td>Europe</td>\n",
       "      <td>Southern Europe</td>\n",
       "      <td>NaN</td>\n",
       "      <td>150.0</td>\n",
       "      <td>39.0</td>\n",
       "      <td>NaN</td>\n",
       "    </tr>\n",
       "    <tr>\n",
       "      <th>3</th>\n",
       "      <td>Algeria</td>\n",
       "      <td>DZ</td>\n",
       "      <td>DZA</td>\n",
       "      <td>12</td>\n",
       "      <td>ISO 3166-2:DZ</td>\n",
       "      <td>Africa</td>\n",
       "      <td>Northern Africa</td>\n",
       "      <td>NaN</td>\n",
       "      <td>2.0</td>\n",
       "      <td>15.0</td>\n",
       "      <td>NaN</td>\n",
       "    </tr>\n",
       "    <tr>\n",
       "      <th>4</th>\n",
       "      <td>American Samoa</td>\n",
       "      <td>AS</td>\n",
       "      <td>ASM</td>\n",
       "      <td>16</td>\n",
       "      <td>ISO 3166-2:AS</td>\n",
       "      <td>Oceania</td>\n",
       "      <td>Polynesia</td>\n",
       "      <td>NaN</td>\n",
       "      <td>9.0</td>\n",
       "      <td>61.0</td>\n",
       "      <td>NaN</td>\n",
       "    </tr>\n",
       "    <tr>\n",
       "      <th>...</th>\n",
       "      <td>...</td>\n",
       "      <td>...</td>\n",
       "      <td>...</td>\n",
       "      <td>...</td>\n",
       "      <td>...</td>\n",
       "      <td>...</td>\n",
       "      <td>...</td>\n",
       "      <td>...</td>\n",
       "      <td>...</td>\n",
       "      <td>...</td>\n",
       "      <td>...</td>\n",
       "    </tr>\n",
       "    <tr>\n",
       "      <th>244</th>\n",
       "      <td>Wallis and Futuna</td>\n",
       "      <td>WF</td>\n",
       "      <td>WLF</td>\n",
       "      <td>876</td>\n",
       "      <td>ISO 3166-2:WF</td>\n",
       "      <td>Oceania</td>\n",
       "      <td>Polynesia</td>\n",
       "      <td>NaN</td>\n",
       "      <td>9.0</td>\n",
       "      <td>61.0</td>\n",
       "      <td>NaN</td>\n",
       "    </tr>\n",
       "    <tr>\n",
       "      <th>245</th>\n",
       "      <td>Western Sahara</td>\n",
       "      <td>EH</td>\n",
       "      <td>ESH</td>\n",
       "      <td>732</td>\n",
       "      <td>ISO 3166-2:EH</td>\n",
       "      <td>Africa</td>\n",
       "      <td>Northern Africa</td>\n",
       "      <td>NaN</td>\n",
       "      <td>2.0</td>\n",
       "      <td>15.0</td>\n",
       "      <td>NaN</td>\n",
       "    </tr>\n",
       "    <tr>\n",
       "      <th>246</th>\n",
       "      <td>Yemen</td>\n",
       "      <td>YE</td>\n",
       "      <td>YEM</td>\n",
       "      <td>887</td>\n",
       "      <td>ISO 3166-2:YE</td>\n",
       "      <td>Asia</td>\n",
       "      <td>Western Asia</td>\n",
       "      <td>NaN</td>\n",
       "      <td>142.0</td>\n",
       "      <td>145.0</td>\n",
       "      <td>NaN</td>\n",
       "    </tr>\n",
       "    <tr>\n",
       "      <th>247</th>\n",
       "      <td>Zambia</td>\n",
       "      <td>ZM</td>\n",
       "      <td>ZMB</td>\n",
       "      <td>894</td>\n",
       "      <td>ISO 3166-2:ZM</td>\n",
       "      <td>Africa</td>\n",
       "      <td>Sub-Saharan Africa</td>\n",
       "      <td>Eastern Africa</td>\n",
       "      <td>2.0</td>\n",
       "      <td>202.0</td>\n",
       "      <td>14.0</td>\n",
       "    </tr>\n",
       "    <tr>\n",
       "      <th>248</th>\n",
       "      <td>Zimbabwe</td>\n",
       "      <td>ZW</td>\n",
       "      <td>ZWE</td>\n",
       "      <td>716</td>\n",
       "      <td>ISO 3166-2:ZW</td>\n",
       "      <td>Africa</td>\n",
       "      <td>Sub-Saharan Africa</td>\n",
       "      <td>Eastern Africa</td>\n",
       "      <td>2.0</td>\n",
       "      <td>202.0</td>\n",
       "      <td>14.0</td>\n",
       "    </tr>\n",
       "  </tbody>\n",
       "</table>\n",
       "<p>249 rows × 11 columns</p>\n",
       "</div>"
      ],
      "text/plain": [
       "                  name alpha-2 alpha-3  country-code     iso_3166-2   REGION   \n",
       "0          Afghanistan      AF     AFG             4  ISO 3166-2:AF     Asia  \\\n",
       "1        Åland Islands      AX     ALA           248  ISO 3166-2:AX   Europe   \n",
       "2              Albania      AL     ALB             8  ISO 3166-2:AL   Europe   \n",
       "3              Algeria      DZ     DZA            12  ISO 3166-2:DZ   Africa   \n",
       "4       American Samoa      AS     ASM            16  ISO 3166-2:AS  Oceania   \n",
       "..                 ...     ...     ...           ...            ...      ...   \n",
       "244  Wallis and Futuna      WF     WLF           876  ISO 3166-2:WF  Oceania   \n",
       "245     Western Sahara      EH     ESH           732  ISO 3166-2:EH   Africa   \n",
       "246              Yemen      YE     YEM           887  ISO 3166-2:YE     Asia   \n",
       "247             Zambia      ZM     ZMB           894  ISO 3166-2:ZM   Africa   \n",
       "248           Zimbabwe      ZW     ZWE           716  ISO 3166-2:ZW   Africa   \n",
       "\n",
       "             sub-region intermediate-region  region-code  sub-region-code   \n",
       "0         Southern Asia                 NaN        142.0             34.0  \\\n",
       "1       Northern Europe                 NaN        150.0            154.0   \n",
       "2       Southern Europe                 NaN        150.0             39.0   \n",
       "3       Northern Africa                 NaN          2.0             15.0   \n",
       "4             Polynesia                 NaN          9.0             61.0   \n",
       "..                  ...                 ...          ...              ...   \n",
       "244           Polynesia                 NaN          9.0             61.0   \n",
       "245     Northern Africa                 NaN          2.0             15.0   \n",
       "246        Western Asia                 NaN        142.0            145.0   \n",
       "247  Sub-Saharan Africa      Eastern Africa          2.0            202.0   \n",
       "248  Sub-Saharan Africa      Eastern Africa          2.0            202.0   \n",
       "\n",
       "     intermediate-region-code  \n",
       "0                         NaN  \n",
       "1                         NaN  \n",
       "2                         NaN  \n",
       "3                         NaN  \n",
       "4                         NaN  \n",
       "..                        ...  \n",
       "244                       NaN  \n",
       "245                       NaN  \n",
       "246                       NaN  \n",
       "247                      14.0  \n",
       "248                      14.0  \n",
       "\n",
       "[249 rows x 11 columns]"
      ]
     },
     "execution_count": 40,
     "metadata": {},
     "output_type": "execute_result"
    }
   ],
   "source": [
    "country.rename(columns={'region': 'REGION'})"
   ]
  },
  {
   "cell_type": "markdown",
   "id": "f72d4d88-79f3-4529-8b0d-57a732915a8e",
   "metadata": {},
   "source": [
    "Exercise6:rename the row index of 2 with 3"
   ]
  },
  {
   "cell_type": "code",
   "execution_count": 41,
   "id": "ccbe3b67-4226-45cd-97f7-b609917b17eb",
   "metadata": {},
   "outputs": [
    {
     "name": "stdout",
     "output_type": "stream",
     "text": [
      "     State Code                   State Name Country Code\n",
      "0           BDS                   Badakhshan           AF\n",
      "1           BDG                      Badghis           AF\n",
      "2           BGL                      Baghlan           AF\n",
      "3           BAL                        Balkh           AF\n",
      "4           BAM                       Bamyan           AF\n",
      "...         ...                          ...          ...\n",
      "4984         MW    Mashonaland West Province           ZW\n",
      "4985         MV            Masvingo Province           ZW\n",
      "4986         MN  Matabeleland North Province           ZW\n",
      "4987         MS  Matabeleland South Province           ZW\n",
      "4988         MI            Midlands Province           ZW\n",
      "\n",
      "[4989 rows x 3 columns]\n"
     ]
    }
   ],
   "source": [
    "States = pd.read_csv('states_by_country_code.csv')\n",
    "print(States)"
   ]
  },
  {
   "cell_type": "markdown",
   "id": "a473ec87-e9e4-49fc-b941-b0c2ff4bbacb",
   "metadata": {},
   "source": [
    "Exercise7:Read the states_by_country_code.csv file, check its properties, and rename some row and column indexes"
   ]
  },
  {
   "cell_type": "code",
   "execution_count": 42,
   "id": "2944389e-c3b5-43ec-b6db-5d51fbfd261b",
   "metadata": {},
   "outputs": [],
   "source": [
    "## Subsetting Series"
   ]
  },
  {
   "cell_type": "code",
   "execution_count": 43,
   "id": "d463cd70-7e5e-4cc9-8266-f7a76ad61898",
   "metadata": {},
   "outputs": [
    {
     "name": "stdout",
     "output_type": "stream",
     "text": [
      "0    1\n",
      "1    7\n",
      "2    9\n",
      "dtype: int64\n"
     ]
    }
   ],
   "source": [
    "h= pd.Series(np.array([1,7,9]))\n",
    "print(h)"
   ]
  },
  {
   "cell_type": "code",
   "execution_count": 48,
   "id": "238a5bcd-0022-467c-8abf-72adacb41620",
   "metadata": {},
   "outputs": [
    {
     "data": {
      "text/plain": [
       "9"
      ]
     },
     "execution_count": 48,
     "metadata": {},
     "output_type": "execute_result"
    }
   ],
   "source": [
    "h.loc[2]  "
   ]
  },
  {
   "cell_type": "code",
   "execution_count": 54,
   "id": "466e8b76-798a-4b41-afa9-9e5946f2c0bb",
   "metadata": {},
   "outputs": [
    {
     "data": {
      "text/plain": [
       "0    1\n",
       "1    7\n",
       "2    9\n",
       "dtype: int64"
      ]
     },
     "execution_count": 54,
     "metadata": {},
     "output_type": "execute_result"
    }
   ],
   "source": [
    "h.loc[:2]"
   ]
  },
  {
   "cell_type": "code",
   "execution_count": 55,
   "id": "4954fe1f-d400-4686-afee-37c2f0a6138d",
   "metadata": {},
   "outputs": [
    {
     "data": {
      "text/plain": [
       "0    1\n",
       "1    7\n",
       "dtype: int64"
      ]
     },
     "execution_count": 55,
     "metadata": {},
     "output_type": "execute_result"
    }
   ],
   "source": [
    "h.loc[[0,1]]"
   ]
  },
  {
   "cell_type": "markdown",
   "id": "61f81c25-e399-4c7c-b15b-c24db18da512",
   "metadata": {},
   "source": [
    "Extract a individual index (5), slice for row indexed with 2 nad 3 and a list of indecices for the row indexed with 1 nad 3 from t= pd.Series(np.array([3,5,7,8]))"
   ]
  },
  {
   "cell_type": "code",
   "execution_count": 57,
   "id": "47b73e5c-da56-415f-b7fa-a3ea208a1ef7",
   "metadata": {},
   "outputs": [
    {
     "data": {
      "text/plain": [
       "0    3\n",
       "1    5\n",
       "2    7\n",
       "3    8\n",
       "dtype: int64"
      ]
     },
     "execution_count": 57,
     "metadata": {},
     "output_type": "execute_result"
    }
   ],
   "source": [
    "t= pd.Series(np.array([3,5,7,8]))\n",
    "t"
   ]
  },
  {
   "cell_type": "code",
   "execution_count": null,
   "id": "ae2c454b-7e3b-4783-b5c4-2fa080f15d47",
   "metadata": {},
   "outputs": [],
   "source": []
  }
 ],
 "metadata": {
  "kernelspec": {
   "display_name": "Python 3 (ipykernel)",
   "language": "python",
   "name": "python3"
  },
  "language_info": {
   "codemirror_mode": {
    "name": "ipython",
    "version": 3
   },
   "file_extension": ".py",
   "mimetype": "text/x-python",
   "name": "python",
   "nbconvert_exporter": "python",
   "pygments_lexer": "ipython3",
   "version": "3.10.10"
  }
 },
 "nbformat": 4,
 "nbformat_minor": 5
}
