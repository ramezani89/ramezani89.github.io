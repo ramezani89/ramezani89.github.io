{
 "cells": [
  {
   "cell_type": "code",
   "execution_count": 1,
   "id": "51a72de6-3f2a-4bb5-b55d-c5700add014c",
   "metadata": {
    "tags": []
   },
   "outputs": [],
   "source": [
    "import numpy as np"
   ]
  },
  {
   "cell_type": "code",
   "execution_count": 2,
   "id": "66f6cd09-6c15-4ea3-821b-1246233a4d2a",
   "metadata": {},
   "outputs": [],
   "source": [
    "import pandas as pd"
   ]
  },
  {
   "cell_type": "code",
   "execution_count": 3,
   "id": "db37a320-3b72-49c5-bd78-3d485264dfc3",
   "metadata": {},
   "outputs": [],
   "source": [
    "import matplotlib.pyplot as plt"
   ]
  },
  {
   "cell_type": "code",
   "execution_count": 4,
   "id": "c111a24d-a4ad-4716-81af-7839c18ca628",
   "metadata": {},
   "outputs": [],
   "source": [
    "## Subsetting Series"
   ]
  },
  {
   "cell_type": "code",
   "execution_count": 5,
   "id": "a977cf39-6191-4f51-ade1-93f5e7a64e57",
   "metadata": {},
   "outputs": [
    {
     "name": "stdout",
     "output_type": "stream",
     "text": [
      "0    1\n",
      "1    7\n",
      "2    9\n",
      "dtype: int64\n"
     ]
    }
   ],
   "source": [
    "h= pd.Series(np.array([1,7,9]))\n",
    "print(h)"
   ]
  },
  {
   "cell_type": "code",
   "execution_count": 6,
   "id": "33f081bb-603e-48d7-9264-ec04fa64ca1a",
   "metadata": {},
   "outputs": [
    {
     "data": {
      "text/plain": [
       "9"
      ]
     },
     "execution_count": 6,
     "metadata": {},
     "output_type": "execute_result"
    }
   ],
   "source": [
    "h.loc[2]  "
   ]
  },
  {
   "cell_type": "code",
   "execution_count": 7,
   "id": "8289d8e9-e542-4248-99c2-f6af499d8a94",
   "metadata": {},
   "outputs": [
    {
     "data": {
      "text/plain": [
       "0    1\n",
       "1    7\n",
       "2    9\n",
       "dtype: int64"
      ]
     },
     "execution_count": 7,
     "metadata": {},
     "output_type": "execute_result"
    }
   ],
   "source": [
    "h.loc[:2]"
   ]
  },
  {
   "cell_type": "code",
   "execution_count": 8,
   "id": "402dc281-53b3-4c6d-ae82-11bac245dcb1",
   "metadata": {},
   "outputs": [
    {
     "data": {
      "text/plain": [
       "0    1\n",
       "1    7\n",
       "dtype: int64"
      ]
     },
     "execution_count": 8,
     "metadata": {},
     "output_type": "execute_result"
    }
   ],
   "source": [
    "h.loc[[0,1]]"
   ]
  },
  {
   "cell_type": "code",
   "execution_count": 9,
   "id": "b409f176-d77f-4771-a5b6-570cc1a082c5",
   "metadata": {},
   "outputs": [
    {
     "data": {
      "text/plain": [
       "9"
      ]
     },
     "execution_count": 9,
     "metadata": {},
     "output_type": "execute_result"
    }
   ],
   "source": [
    "h.iloc[2]"
   ]
  },
  {
   "cell_type": "code",
   "execution_count": 10,
   "id": "426f2ee3-b5ae-4e6a-8df5-e8e584921882",
   "metadata": {},
   "outputs": [
    {
     "data": {
      "text/plain": [
       "0    1\n",
       "1    7\n",
       "dtype: int64"
      ]
     },
     "execution_count": 10,
     "metadata": {},
     "output_type": "execute_result"
    }
   ],
   "source": [
    "h.iloc[:2]"
   ]
  },
  {
   "cell_type": "code",
   "execution_count": 11,
   "id": "a4a2c011-df4a-43f7-89d2-97c8adb2786b",
   "metadata": {},
   "outputs": [
    {
     "data": {
      "text/plain": [
       "0    1\n",
       "1    7\n",
       "dtype: int64"
      ]
     },
     "execution_count": 11,
     "metadata": {},
     "output_type": "execute_result"
    }
   ],
   "source": [
    "h.iloc[[0,1]]"
   ]
  },
  {
   "cell_type": "markdown",
   "id": "9afe08e1-c92d-4255-9364-c52c0dea590b",
   "metadata": {},
   "source": [
    "Exercise 1: Extract a individual value (5), slice for row indexed with 2 till 3 and a list of indecices for the row indexed with 1 and 3 from the series named t created from the array([3,5,7,8]))"
   ]
  },
  {
   "cell_type": "code",
   "execution_count": 12,
   "id": "29a5e70f-1df9-42e3-a0e1-130ea8a15039",
   "metadata": {},
   "outputs": [
    {
     "data": {
      "text/plain": [
       "0    3\n",
       "1    5\n",
       "2    7\n",
       "3    8\n",
       "dtype: int64"
      ]
     },
     "execution_count": 12,
     "metadata": {},
     "output_type": "execute_result"
    }
   ],
   "source": [
    "t= pd.Series(np.array([3,5,7,8]))\n",
    "t"
   ]
  },
  {
   "cell_type": "code",
   "execution_count": 13,
   "id": "1c833c17-4aba-45f6-bb36-73fa1cdeb563",
   "metadata": {},
   "outputs": [
    {
     "data": {
      "text/plain": [
       "5"
      ]
     },
     "execution_count": 13,
     "metadata": {},
     "output_type": "execute_result"
    }
   ],
   "source": [
    "t.loc[1] "
   ]
  },
  {
   "cell_type": "code",
   "execution_count": 14,
   "id": "8f64dace-ee28-468f-94e4-cff0d64cce21",
   "metadata": {},
   "outputs": [
    {
     "data": {
      "text/plain": [
       "2    7\n",
       "3    8\n",
       "dtype: int64"
      ]
     },
     "execution_count": 14,
     "metadata": {},
     "output_type": "execute_result"
    }
   ],
   "source": [
    "t.loc[2:3]"
   ]
  },
  {
   "cell_type": "code",
   "execution_count": 15,
   "id": "cd3c761c-ab52-4140-b34d-99a79829b07f",
   "metadata": {},
   "outputs": [
    {
     "data": {
      "text/plain": [
       "1    5\n",
       "3    8\n",
       "dtype: int64"
      ]
     },
     "execution_count": 15,
     "metadata": {},
     "output_type": "execute_result"
    }
   ],
   "source": [
    "t.loc[[1,3]]"
   ]
  },
  {
   "cell_type": "code",
   "execution_count": 16,
   "id": "7b7f6e24-48b2-4edb-8897-670969b8e6c9",
   "metadata": {},
   "outputs": [
    {
     "data": {
      "text/plain": [
       "5"
      ]
     },
     "execution_count": 16,
     "metadata": {},
     "output_type": "execute_result"
    }
   ],
   "source": [
    "t.iloc[1]"
   ]
  },
  {
   "cell_type": "code",
   "execution_count": 17,
   "id": "a9d2c7f8-0c64-4023-8983-0fbbcbea6d79",
   "metadata": {},
   "outputs": [
    {
     "data": {
      "text/plain": [
       "2    7\n",
       "3    8\n",
       "dtype: int64"
      ]
     },
     "execution_count": 17,
     "metadata": {},
     "output_type": "execute_result"
    }
   ],
   "source": [
    "t.iloc[2:4]"
   ]
  },
  {
   "cell_type": "code",
   "execution_count": 18,
   "id": "d33f9e40-e21c-4d8e-bced-4b6a8811e67b",
   "metadata": {},
   "outputs": [
    {
     "data": {
      "text/plain": [
       "1    5\n",
       "3    8\n",
       "dtype: int64"
      ]
     },
     "execution_count": 18,
     "metadata": {},
     "output_type": "execute_result"
    }
   ],
   "source": [
    "t.iloc[[1,3]]"
   ]
  },
  {
   "cell_type": "code",
   "execution_count": 19,
   "id": "a2f0f537-1ebb-4de6-91fa-1a6bd701942f",
   "metadata": {},
   "outputs": [],
   "source": [
    "## Subsetting DataFrame"
   ]
  },
  {
   "cell_type": "code",
   "execution_count": 20,
   "id": "0cf862fc-2889-4283-80db-732a2fd20db1",
   "metadata": {},
   "outputs": [
    {
     "name": "stdout",
     "output_type": "stream",
     "text": [
      "     State Code                   State Name Country Code\n",
      "0           BDS                   Badakhshan           AF\n",
      "1           BDG                      Badghis           AF\n",
      "2           BGL                      Baghlan           AF\n",
      "3           BAL                        Balkh           AF\n",
      "4           BAM                       Bamyan           AF\n",
      "...         ...                          ...          ...\n",
      "4984         MW    Mashonaland West Province           ZW\n",
      "4985         MV            Masvingo Province           ZW\n",
      "4986         MN  Matabeleland North Province           ZW\n",
      "4987         MS  Matabeleland South Province           ZW\n",
      "4988         MI            Midlands Province           ZW\n",
      "\n",
      "[4989 rows x 3 columns]\n"
     ]
    }
   ],
   "source": [
    "States = pd.read_csv('states_by_country_code.csv')\n",
    "print(States)"
   ]
  },
  {
   "cell_type": "code",
   "execution_count": 21,
   "id": "dfa31bb8-e249-40b8-a852-8bba5874247b",
   "metadata": {},
   "outputs": [
    {
     "data": {
      "text/plain": [
       "0       AF\n",
       "1       AF\n",
       "2       AF\n",
       "3       AF\n",
       "4       AF\n",
       "        ..\n",
       "4984    ZW\n",
       "4985    ZW\n",
       "4986    ZW\n",
       "4987    ZW\n",
       "4988    ZW\n",
       "Name: Country Code, Length: 4989, dtype: object"
      ]
     },
     "execution_count": 21,
     "metadata": {},
     "output_type": "execute_result"
    }
   ],
   "source": [
    "States.loc[:, 'Country Code']"
   ]
  },
  {
   "cell_type": "code",
   "execution_count": 22,
   "id": "964ae5dc-d440-4e7d-8591-6f6d6da8b1f7",
   "metadata": {},
   "outputs": [
    {
     "data": {
      "text/plain": [
       "0       AF\n",
       "1       AF\n",
       "2       AF\n",
       "3       AF\n",
       "4       AF\n",
       "        ..\n",
       "4984    ZW\n",
       "4985    ZW\n",
       "4986    ZW\n",
       "4987    ZW\n",
       "4988    ZW\n",
       "Name: Country Code, Length: 4989, dtype: object"
      ]
     },
     "execution_count": 22,
     "metadata": {},
     "output_type": "execute_result"
    }
   ],
   "source": [
    "States['Country Code']"
   ]
  },
  {
   "cell_type": "code",
   "execution_count": 23,
   "id": "18deee92-58ef-431b-a38a-5bbc67f34764",
   "metadata": {},
   "outputs": [
    {
     "data": {
      "text/html": [
       "<div>\n",
       "<style scoped>\n",
       "    .dataframe tbody tr th:only-of-type {\n",
       "        vertical-align: middle;\n",
       "    }\n",
       "\n",
       "    .dataframe tbody tr th {\n",
       "        vertical-align: top;\n",
       "    }\n",
       "\n",
       "    .dataframe thead th {\n",
       "        text-align: right;\n",
       "    }\n",
       "</style>\n",
       "<table border=\"1\" class=\"dataframe\">\n",
       "  <thead>\n",
       "    <tr style=\"text-align: right;\">\n",
       "      <th></th>\n",
       "      <th>Country Code</th>\n",
       "    </tr>\n",
       "  </thead>\n",
       "  <tbody>\n",
       "    <tr>\n",
       "      <th>0</th>\n",
       "      <td>AF</td>\n",
       "    </tr>\n",
       "    <tr>\n",
       "      <th>1</th>\n",
       "      <td>AF</td>\n",
       "    </tr>\n",
       "    <tr>\n",
       "      <th>2</th>\n",
       "      <td>AF</td>\n",
       "    </tr>\n",
       "    <tr>\n",
       "      <th>3</th>\n",
       "      <td>AF</td>\n",
       "    </tr>\n",
       "    <tr>\n",
       "      <th>4</th>\n",
       "      <td>AF</td>\n",
       "    </tr>\n",
       "    <tr>\n",
       "      <th>...</th>\n",
       "      <td>...</td>\n",
       "    </tr>\n",
       "    <tr>\n",
       "      <th>4984</th>\n",
       "      <td>ZW</td>\n",
       "    </tr>\n",
       "    <tr>\n",
       "      <th>4985</th>\n",
       "      <td>ZW</td>\n",
       "    </tr>\n",
       "    <tr>\n",
       "      <th>4986</th>\n",
       "      <td>ZW</td>\n",
       "    </tr>\n",
       "    <tr>\n",
       "      <th>4987</th>\n",
       "      <td>ZW</td>\n",
       "    </tr>\n",
       "    <tr>\n",
       "      <th>4988</th>\n",
       "      <td>ZW</td>\n",
       "    </tr>\n",
       "  </tbody>\n",
       "</table>\n",
       "<p>4989 rows × 1 columns</p>\n",
       "</div>"
      ],
      "text/plain": [
       "     Country Code\n",
       "0              AF\n",
       "1              AF\n",
       "2              AF\n",
       "3              AF\n",
       "4              AF\n",
       "...           ...\n",
       "4984           ZW\n",
       "4985           ZW\n",
       "4986           ZW\n",
       "4987           ZW\n",
       "4988           ZW\n",
       "\n",
       "[4989 rows x 1 columns]"
      ]
     },
     "execution_count": 23,
     "metadata": {},
     "output_type": "execute_result"
    }
   ],
   "source": [
    "States.loc[:, ['Country Code']]"
   ]
  },
  {
   "cell_type": "code",
   "execution_count": 24,
   "id": "b2851ac3-0799-4ef6-83db-d269fdb87ecf",
   "metadata": {},
   "outputs": [
    {
     "data": {
      "text/html": [
       "<div>\n",
       "<style scoped>\n",
       "    .dataframe tbody tr th:only-of-type {\n",
       "        vertical-align: middle;\n",
       "    }\n",
       "\n",
       "    .dataframe tbody tr th {\n",
       "        vertical-align: top;\n",
       "    }\n",
       "\n",
       "    .dataframe thead th {\n",
       "        text-align: right;\n",
       "    }\n",
       "</style>\n",
       "<table border=\"1\" class=\"dataframe\">\n",
       "  <thead>\n",
       "    <tr style=\"text-align: right;\">\n",
       "      <th></th>\n",
       "      <th>Country Code</th>\n",
       "    </tr>\n",
       "  </thead>\n",
       "  <tbody>\n",
       "    <tr>\n",
       "      <th>0</th>\n",
       "      <td>AF</td>\n",
       "    </tr>\n",
       "    <tr>\n",
       "      <th>1</th>\n",
       "      <td>AF</td>\n",
       "    </tr>\n",
       "    <tr>\n",
       "      <th>2</th>\n",
       "      <td>AF</td>\n",
       "    </tr>\n",
       "    <tr>\n",
       "      <th>3</th>\n",
       "      <td>AF</td>\n",
       "    </tr>\n",
       "    <tr>\n",
       "      <th>4</th>\n",
       "      <td>AF</td>\n",
       "    </tr>\n",
       "    <tr>\n",
       "      <th>...</th>\n",
       "      <td>...</td>\n",
       "    </tr>\n",
       "    <tr>\n",
       "      <th>4984</th>\n",
       "      <td>ZW</td>\n",
       "    </tr>\n",
       "    <tr>\n",
       "      <th>4985</th>\n",
       "      <td>ZW</td>\n",
       "    </tr>\n",
       "    <tr>\n",
       "      <th>4986</th>\n",
       "      <td>ZW</td>\n",
       "    </tr>\n",
       "    <tr>\n",
       "      <th>4987</th>\n",
       "      <td>ZW</td>\n",
       "    </tr>\n",
       "    <tr>\n",
       "      <th>4988</th>\n",
       "      <td>ZW</td>\n",
       "    </tr>\n",
       "  </tbody>\n",
       "</table>\n",
       "<p>4989 rows × 1 columns</p>\n",
       "</div>"
      ],
      "text/plain": [
       "     Country Code\n",
       "0              AF\n",
       "1              AF\n",
       "2              AF\n",
       "3              AF\n",
       "4              AF\n",
       "...           ...\n",
       "4984           ZW\n",
       "4985           ZW\n",
       "4986           ZW\n",
       "4987           ZW\n",
       "4988           ZW\n",
       "\n",
       "[4989 rows x 1 columns]"
      ]
     },
     "execution_count": 24,
     "metadata": {},
     "output_type": "execute_result"
    }
   ],
   "source": [
    "States[['Country Code']]"
   ]
  },
  {
   "cell_type": "code",
   "execution_count": 25,
   "id": "1c4f92b1-ae79-45ef-b946-6620fec94922",
   "metadata": {},
   "outputs": [
    {
     "data": {
      "text/html": [
       "<div>\n",
       "<style scoped>\n",
       "    .dataframe tbody tr th:only-of-type {\n",
       "        vertical-align: middle;\n",
       "    }\n",
       "\n",
       "    .dataframe tbody tr th {\n",
       "        vertical-align: top;\n",
       "    }\n",
       "\n",
       "    .dataframe thead th {\n",
       "        text-align: right;\n",
       "    }\n",
       "</style>\n",
       "<table border=\"1\" class=\"dataframe\">\n",
       "  <thead>\n",
       "    <tr style=\"text-align: right;\">\n",
       "      <th></th>\n",
       "      <th>Country Code</th>\n",
       "      <th>State Code</th>\n",
       "    </tr>\n",
       "  </thead>\n",
       "  <tbody>\n",
       "    <tr>\n",
       "      <th>0</th>\n",
       "      <td>AF</td>\n",
       "      <td>BDS</td>\n",
       "    </tr>\n",
       "    <tr>\n",
       "      <th>1</th>\n",
       "      <td>AF</td>\n",
       "      <td>BDG</td>\n",
       "    </tr>\n",
       "    <tr>\n",
       "      <th>2</th>\n",
       "      <td>AF</td>\n",
       "      <td>BGL</td>\n",
       "    </tr>\n",
       "    <tr>\n",
       "      <th>3</th>\n",
       "      <td>AF</td>\n",
       "      <td>BAL</td>\n",
       "    </tr>\n",
       "    <tr>\n",
       "      <th>4</th>\n",
       "      <td>AF</td>\n",
       "      <td>BAM</td>\n",
       "    </tr>\n",
       "    <tr>\n",
       "      <th>...</th>\n",
       "      <td>...</td>\n",
       "      <td>...</td>\n",
       "    </tr>\n",
       "    <tr>\n",
       "      <th>4984</th>\n",
       "      <td>ZW</td>\n",
       "      <td>MW</td>\n",
       "    </tr>\n",
       "    <tr>\n",
       "      <th>4985</th>\n",
       "      <td>ZW</td>\n",
       "      <td>MV</td>\n",
       "    </tr>\n",
       "    <tr>\n",
       "      <th>4986</th>\n",
       "      <td>ZW</td>\n",
       "      <td>MN</td>\n",
       "    </tr>\n",
       "    <tr>\n",
       "      <th>4987</th>\n",
       "      <td>ZW</td>\n",
       "      <td>MS</td>\n",
       "    </tr>\n",
       "    <tr>\n",
       "      <th>4988</th>\n",
       "      <td>ZW</td>\n",
       "      <td>MI</td>\n",
       "    </tr>\n",
       "  </tbody>\n",
       "</table>\n",
       "<p>4989 rows × 2 columns</p>\n",
       "</div>"
      ],
      "text/plain": [
       "     Country Code State Code\n",
       "0              AF        BDS\n",
       "1              AF        BDG\n",
       "2              AF        BGL\n",
       "3              AF        BAL\n",
       "4              AF        BAM\n",
       "...           ...        ...\n",
       "4984           ZW         MW\n",
       "4985           ZW         MV\n",
       "4986           ZW         MN\n",
       "4987           ZW         MS\n",
       "4988           ZW         MI\n",
       "\n",
       "[4989 rows x 2 columns]"
      ]
     },
     "execution_count": 25,
     "metadata": {},
     "output_type": "execute_result"
    }
   ],
   "source": [
    "States[['Country Code','State Code']]"
   ]
  },
  {
   "cell_type": "code",
   "execution_count": 26,
   "id": "c9f3cf4a-b247-4e8b-9126-10a58b868beb",
   "metadata": {},
   "outputs": [
    {
     "data": {
      "text/html": [
       "<div>\n",
       "<style scoped>\n",
       "    .dataframe tbody tr th:only-of-type {\n",
       "        vertical-align: middle;\n",
       "    }\n",
       "\n",
       "    .dataframe tbody tr th {\n",
       "        vertical-align: top;\n",
       "    }\n",
       "\n",
       "    .dataframe thead th {\n",
       "        text-align: right;\n",
       "    }\n",
       "</style>\n",
       "<table border=\"1\" class=\"dataframe\">\n",
       "  <thead>\n",
       "    <tr style=\"text-align: right;\">\n",
       "      <th></th>\n",
       "      <th>State Code</th>\n",
       "      <th>State Name</th>\n",
       "    </tr>\n",
       "  </thead>\n",
       "  <tbody>\n",
       "    <tr>\n",
       "      <th>0</th>\n",
       "      <td>BDS</td>\n",
       "      <td>Badakhshan</td>\n",
       "    </tr>\n",
       "    <tr>\n",
       "      <th>1</th>\n",
       "      <td>BDG</td>\n",
       "      <td>Badghis</td>\n",
       "    </tr>\n",
       "    <tr>\n",
       "      <th>2</th>\n",
       "      <td>BGL</td>\n",
       "      <td>Baghlan</td>\n",
       "    </tr>\n",
       "    <tr>\n",
       "      <th>3</th>\n",
       "      <td>BAL</td>\n",
       "      <td>Balkh</td>\n",
       "    </tr>\n",
       "    <tr>\n",
       "      <th>4</th>\n",
       "      <td>BAM</td>\n",
       "      <td>Bamyan</td>\n",
       "    </tr>\n",
       "    <tr>\n",
       "      <th>...</th>\n",
       "      <td>...</td>\n",
       "      <td>...</td>\n",
       "    </tr>\n",
       "    <tr>\n",
       "      <th>4984</th>\n",
       "      <td>MW</td>\n",
       "      <td>Mashonaland West Province</td>\n",
       "    </tr>\n",
       "    <tr>\n",
       "      <th>4985</th>\n",
       "      <td>MV</td>\n",
       "      <td>Masvingo Province</td>\n",
       "    </tr>\n",
       "    <tr>\n",
       "      <th>4986</th>\n",
       "      <td>MN</td>\n",
       "      <td>Matabeleland North Province</td>\n",
       "    </tr>\n",
       "    <tr>\n",
       "      <th>4987</th>\n",
       "      <td>MS</td>\n",
       "      <td>Matabeleland South Province</td>\n",
       "    </tr>\n",
       "    <tr>\n",
       "      <th>4988</th>\n",
       "      <td>MI</td>\n",
       "      <td>Midlands Province</td>\n",
       "    </tr>\n",
       "  </tbody>\n",
       "</table>\n",
       "<p>4989 rows × 2 columns</p>\n",
       "</div>"
      ],
      "text/plain": [
       "     State Code                   State Name\n",
       "0           BDS                   Badakhshan\n",
       "1           BDG                      Badghis\n",
       "2           BGL                      Baghlan\n",
       "3           BAL                        Balkh\n",
       "4           BAM                       Bamyan\n",
       "...         ...                          ...\n",
       "4984         MW    Mashonaland West Province\n",
       "4985         MV            Masvingo Province\n",
       "4986         MN  Matabeleland North Province\n",
       "4987         MS  Matabeleland South Province\n",
       "4988         MI            Midlands Province\n",
       "\n",
       "[4989 rows x 2 columns]"
      ]
     },
     "execution_count": 26,
     "metadata": {},
     "output_type": "execute_result"
    }
   ],
   "source": [
    "States.loc[:,'State Code':'State Name']"
   ]
  },
  {
   "cell_type": "code",
   "execution_count": 27,
   "id": "9a6579fe-28b6-425f-822e-2a1e19bb8a5f",
   "metadata": {},
   "outputs": [
    {
     "data": {
      "text/html": [
       "<div>\n",
       "<style scoped>\n",
       "    .dataframe tbody tr th:only-of-type {\n",
       "        vertical-align: middle;\n",
       "    }\n",
       "\n",
       "    .dataframe tbody tr th {\n",
       "        vertical-align: top;\n",
       "    }\n",
       "\n",
       "    .dataframe thead th {\n",
       "        text-align: right;\n",
       "    }\n",
       "</style>\n",
       "<table border=\"1\" class=\"dataframe\">\n",
       "  <thead>\n",
       "    <tr style=\"text-align: right;\">\n",
       "      <th></th>\n",
       "      <th>State Code</th>\n",
       "      <th>State Name</th>\n",
       "    </tr>\n",
       "  </thead>\n",
       "  <tbody>\n",
       "    <tr>\n",
       "      <th>0</th>\n",
       "      <td>BDS</td>\n",
       "      <td>Badakhshan</td>\n",
       "    </tr>\n",
       "    <tr>\n",
       "      <th>1</th>\n",
       "      <td>BDG</td>\n",
       "      <td>Badghis</td>\n",
       "    </tr>\n",
       "    <tr>\n",
       "      <th>2</th>\n",
       "      <td>BGL</td>\n",
       "      <td>Baghlan</td>\n",
       "    </tr>\n",
       "    <tr>\n",
       "      <th>3</th>\n",
       "      <td>BAL</td>\n",
       "      <td>Balkh</td>\n",
       "    </tr>\n",
       "    <tr>\n",
       "      <th>4</th>\n",
       "      <td>BAM</td>\n",
       "      <td>Bamyan</td>\n",
       "    </tr>\n",
       "    <tr>\n",
       "      <th>...</th>\n",
       "      <td>...</td>\n",
       "      <td>...</td>\n",
       "    </tr>\n",
       "    <tr>\n",
       "      <th>4984</th>\n",
       "      <td>MW</td>\n",
       "      <td>Mashonaland West Province</td>\n",
       "    </tr>\n",
       "    <tr>\n",
       "      <th>4985</th>\n",
       "      <td>MV</td>\n",
       "      <td>Masvingo Province</td>\n",
       "    </tr>\n",
       "    <tr>\n",
       "      <th>4986</th>\n",
       "      <td>MN</td>\n",
       "      <td>Matabeleland North Province</td>\n",
       "    </tr>\n",
       "    <tr>\n",
       "      <th>4987</th>\n",
       "      <td>MS</td>\n",
       "      <td>Matabeleland South Province</td>\n",
       "    </tr>\n",
       "    <tr>\n",
       "      <th>4988</th>\n",
       "      <td>MI</td>\n",
       "      <td>Midlands Province</td>\n",
       "    </tr>\n",
       "  </tbody>\n",
       "</table>\n",
       "<p>4989 rows × 2 columns</p>\n",
       "</div>"
      ],
      "text/plain": [
       "     State Code                   State Name\n",
       "0           BDS                   Badakhshan\n",
       "1           BDG                      Badghis\n",
       "2           BGL                      Baghlan\n",
       "3           BAL                        Balkh\n",
       "4           BAM                       Bamyan\n",
       "...         ...                          ...\n",
       "4984         MW    Mashonaland West Province\n",
       "4985         MV            Masvingo Province\n",
       "4986         MN  Matabeleland North Province\n",
       "4987         MS  Matabeleland South Province\n",
       "4988         MI            Midlands Province\n",
       "\n",
       "[4989 rows x 2 columns]"
      ]
     },
     "execution_count": 27,
     "metadata": {},
     "output_type": "execute_result"
    }
   ],
   "source": [
    "States.loc[:, :'State Name']"
   ]
  },
  {
   "cell_type": "markdown",
   "id": "b2133191-3c02-419a-8e5d-210ef34c5fe7",
   "metadata": {},
   "source": [
    "Exercise 2: Read the country_full.csv file, and select all columns after 'sub-region' columns and save it to a file named country_columnselection.csv (method for saving: your_data.to_csv('your_output'))"
   ]
  },
  {
   "cell_type": "code",
   "execution_count": 28,
   "id": "e8f522c4-be88-4987-8d69-082f61f13da4",
   "metadata": {
    "tags": []
   },
   "outputs": [
    {
     "name": "stdout",
     "output_type": "stream",
     "text": [
      "                  name alpha-2 alpha-3  country-code     iso_3166-2   region   \n",
      "0          Afghanistan      AF     AFG             4  ISO 3166-2:AF     Asia  \\\n",
      "1        Åland Islands      AX     ALA           248  ISO 3166-2:AX   Europe   \n",
      "2              Albania      AL     ALB             8  ISO 3166-2:AL   Europe   \n",
      "3              Algeria      DZ     DZA            12  ISO 3166-2:DZ   Africa   \n",
      "4       American Samoa      AS     ASM            16  ISO 3166-2:AS  Oceania   \n",
      "..                 ...     ...     ...           ...            ...      ...   \n",
      "244  Wallis and Futuna      WF     WLF           876  ISO 3166-2:WF  Oceania   \n",
      "245     Western Sahara      EH     ESH           732  ISO 3166-2:EH   Africa   \n",
      "246              Yemen      YE     YEM           887  ISO 3166-2:YE     Asia   \n",
      "247             Zambia      ZM     ZMB           894  ISO 3166-2:ZM   Africa   \n",
      "248           Zimbabwe      ZW     ZWE           716  ISO 3166-2:ZW   Africa   \n",
      "\n",
      "             sub-region intermediate-region  region-code  sub-region-code   \n",
      "0         Southern Asia                 NaN        142.0             34.0  \\\n",
      "1       Northern Europe                 NaN        150.0            154.0   \n",
      "2       Southern Europe                 NaN        150.0             39.0   \n",
      "3       Northern Africa                 NaN          2.0             15.0   \n",
      "4             Polynesia                 NaN          9.0             61.0   \n",
      "..                  ...                 ...          ...              ...   \n",
      "244           Polynesia                 NaN          9.0             61.0   \n",
      "245     Northern Africa                 NaN          2.0             15.0   \n",
      "246        Western Asia                 NaN        142.0            145.0   \n",
      "247  Sub-Saharan Africa      Eastern Africa          2.0            202.0   \n",
      "248  Sub-Saharan Africa      Eastern Africa          2.0            202.0   \n",
      "\n",
      "     intermediate-region-code  \n",
      "0                         NaN  \n",
      "1                         NaN  \n",
      "2                         NaN  \n",
      "3                         NaN  \n",
      "4                         NaN  \n",
      "..                        ...  \n",
      "244                       NaN  \n",
      "245                       NaN  \n",
      "246                       NaN  \n",
      "247                      14.0  \n",
      "248                      14.0  \n",
      "\n",
      "[249 rows x 11 columns]\n"
     ]
    }
   ],
   "source": [
    "country = pd.read_csv('country_full.csv')\n",
    "print(country)"
   ]
  },
  {
   "cell_type": "code",
   "execution_count": 29,
   "id": "2ef8b0a3-846c-41b9-8c36-92ab3ecf900d",
   "metadata": {},
   "outputs": [
    {
     "name": "stdout",
     "output_type": "stream",
     "text": [
      "             sub-region intermediate-region  region-code  sub-region-code   \n",
      "0         Southern Asia                 NaN        142.0             34.0  \\\n",
      "1       Northern Europe                 NaN        150.0            154.0   \n",
      "2       Southern Europe                 NaN        150.0             39.0   \n",
      "3       Northern Africa                 NaN          2.0             15.0   \n",
      "4             Polynesia                 NaN          9.0             61.0   \n",
      "..                  ...                 ...          ...              ...   \n",
      "244           Polynesia                 NaN          9.0             61.0   \n",
      "245     Northern Africa                 NaN          2.0             15.0   \n",
      "246        Western Asia                 NaN        142.0            145.0   \n",
      "247  Sub-Saharan Africa      Eastern Africa          2.0            202.0   \n",
      "248  Sub-Saharan Africa      Eastern Africa          2.0            202.0   \n",
      "\n",
      "     intermediate-region-code  \n",
      "0                         NaN  \n",
      "1                         NaN  \n",
      "2                         NaN  \n",
      "3                         NaN  \n",
      "4                         NaN  \n",
      "..                        ...  \n",
      "244                       NaN  \n",
      "245                       NaN  \n",
      "246                       NaN  \n",
      "247                      14.0  \n",
      "248                      14.0  \n",
      "\n",
      "[249 rows x 5 columns]\n"
     ]
    }
   ],
   "source": [
    "country_sel = country.loc[:,'sub-region':]\n",
    "print(country_sel)"
   ]
  },
  {
   "cell_type": "code",
   "execution_count": 30,
   "id": "2c4eddbe-195a-44de-9efa-bf056c3ed648",
   "metadata": {},
   "outputs": [],
   "source": [
    "country_sel.to_csv('country_columnselection.csv',index=False)"
   ]
  },
  {
   "cell_type": "code",
   "execution_count": 31,
   "id": "e716f539-be1a-467a-affd-4a53fc7450fa",
   "metadata": {},
   "outputs": [
    {
     "data": {
      "text/html": [
       "<div>\n",
       "<style scoped>\n",
       "    .dataframe tbody tr th:only-of-type {\n",
       "        vertical-align: middle;\n",
       "    }\n",
       "\n",
       "    .dataframe tbody tr th {\n",
       "        vertical-align: top;\n",
       "    }\n",
       "\n",
       "    .dataframe thead th {\n",
       "        text-align: right;\n",
       "    }\n",
       "</style>\n",
       "<table border=\"1\" class=\"dataframe\">\n",
       "  <thead>\n",
       "    <tr style=\"text-align: right;\">\n",
       "      <th></th>\n",
       "      <th>State Code</th>\n",
       "      <th>State Name</th>\n",
       "      <th>Country Code</th>\n",
       "    </tr>\n",
       "  </thead>\n",
       "  <tbody>\n",
       "    <tr>\n",
       "      <th>0</th>\n",
       "      <td>BDS</td>\n",
       "      <td>Badakhshan</td>\n",
       "      <td>AF</td>\n",
       "    </tr>\n",
       "  </tbody>\n",
       "</table>\n",
       "</div>"
      ],
      "text/plain": [
       "  State Code  State Name Country Code\n",
       "0        BDS  Badakhshan           AF"
      ]
     },
     "execution_count": 31,
     "metadata": {},
     "output_type": "execute_result"
    }
   ],
   "source": [
    "States.loc[[0], :] "
   ]
  },
  {
   "cell_type": "code",
   "execution_count": 32,
   "id": "7e979e7d-cdd9-4127-b7d0-d97abaf8a659",
   "metadata": {},
   "outputs": [
    {
     "data": {
      "text/html": [
       "<div>\n",
       "<style scoped>\n",
       "    .dataframe tbody tr th:only-of-type {\n",
       "        vertical-align: middle;\n",
       "    }\n",
       "\n",
       "    .dataframe tbody tr th {\n",
       "        vertical-align: top;\n",
       "    }\n",
       "\n",
       "    .dataframe thead th {\n",
       "        text-align: right;\n",
       "    }\n",
       "</style>\n",
       "<table border=\"1\" class=\"dataframe\">\n",
       "  <thead>\n",
       "    <tr style=\"text-align: right;\">\n",
       "      <th></th>\n",
       "      <th>State Code</th>\n",
       "      <th>State Name</th>\n",
       "      <th>Country Code</th>\n",
       "    </tr>\n",
       "  </thead>\n",
       "  <tbody>\n",
       "    <tr>\n",
       "      <th>0</th>\n",
       "      <td>BDS</td>\n",
       "      <td>Badakhshan</td>\n",
       "      <td>AF</td>\n",
       "    </tr>\n",
       "    <tr>\n",
       "      <th>1</th>\n",
       "      <td>BDG</td>\n",
       "      <td>Badghis</td>\n",
       "      <td>AF</td>\n",
       "    </tr>\n",
       "    <tr>\n",
       "      <th>2</th>\n",
       "      <td>BGL</td>\n",
       "      <td>Baghlan</td>\n",
       "      <td>AF</td>\n",
       "    </tr>\n",
       "    <tr>\n",
       "      <th>3</th>\n",
       "      <td>BAL</td>\n",
       "      <td>Balkh</td>\n",
       "      <td>AF</td>\n",
       "    </tr>\n",
       "  </tbody>\n",
       "</table>\n",
       "</div>"
      ],
      "text/plain": [
       "  State Code  State Name Country Code\n",
       "0        BDS  Badakhshan           AF\n",
       "1        BDG     Badghis           AF\n",
       "2        BGL     Baghlan           AF\n",
       "3        BAL       Balkh           AF"
      ]
     },
     "execution_count": 32,
     "metadata": {},
     "output_type": "execute_result"
    }
   ],
   "source": [
    "States.loc[0:3, :]  "
   ]
  },
  {
   "cell_type": "code",
   "execution_count": 33,
   "id": "42ae70d1-4f1d-467e-84f5-40fa698e9e87",
   "metadata": {},
   "outputs": [
    {
     "data": {
      "text/html": [
       "<div>\n",
       "<style scoped>\n",
       "    .dataframe tbody tr th:only-of-type {\n",
       "        vertical-align: middle;\n",
       "    }\n",
       "\n",
       "    .dataframe tbody tr th {\n",
       "        vertical-align: top;\n",
       "    }\n",
       "\n",
       "    .dataframe thead th {\n",
       "        text-align: right;\n",
       "    }\n",
       "</style>\n",
       "<table border=\"1\" class=\"dataframe\">\n",
       "  <thead>\n",
       "    <tr style=\"text-align: right;\">\n",
       "      <th></th>\n",
       "      <th>State Code</th>\n",
       "      <th>State Name</th>\n",
       "      <th>Country Code</th>\n",
       "    </tr>\n",
       "  </thead>\n",
       "  <tbody>\n",
       "    <tr>\n",
       "      <th>0</th>\n",
       "      <td>BDS</td>\n",
       "      <td>Badakhshan</td>\n",
       "      <td>AF</td>\n",
       "    </tr>\n",
       "    <tr>\n",
       "      <th>1</th>\n",
       "      <td>BDG</td>\n",
       "      <td>Badghis</td>\n",
       "      <td>AF</td>\n",
       "    </tr>\n",
       "    <tr>\n",
       "      <th>2</th>\n",
       "      <td>BGL</td>\n",
       "      <td>Baghlan</td>\n",
       "      <td>AF</td>\n",
       "    </tr>\n",
       "  </tbody>\n",
       "</table>\n",
       "</div>"
      ],
      "text/plain": [
       "  State Code  State Name Country Code\n",
       "0        BDS  Badakhshan           AF\n",
       "1        BDG     Badghis           AF\n",
       "2        BGL     Baghlan           AF"
      ]
     },
     "execution_count": 33,
     "metadata": {},
     "output_type": "execute_result"
    }
   ],
   "source": [
    "States.iloc[0:3, :] "
   ]
  },
  {
   "cell_type": "code",
   "execution_count": 34,
   "id": "4d490050-c882-458f-bcf8-19d8907c6fce",
   "metadata": {},
   "outputs": [
    {
     "data": {
      "text/html": [
       "<div>\n",
       "<style scoped>\n",
       "    .dataframe tbody tr th:only-of-type {\n",
       "        vertical-align: middle;\n",
       "    }\n",
       "\n",
       "    .dataframe tbody tr th {\n",
       "        vertical-align: top;\n",
       "    }\n",
       "\n",
       "    .dataframe thead th {\n",
       "        text-align: right;\n",
       "    }\n",
       "</style>\n",
       "<table border=\"1\" class=\"dataframe\">\n",
       "  <thead>\n",
       "    <tr style=\"text-align: right;\">\n",
       "      <th></th>\n",
       "      <th>State Code</th>\n",
       "      <th>State Name</th>\n",
       "      <th>Country Code</th>\n",
       "    </tr>\n",
       "  </thead>\n",
       "  <tbody>\n",
       "    <tr>\n",
       "      <th>0</th>\n",
       "      <td>BDS</td>\n",
       "      <td>Badakhshan</td>\n",
       "      <td>AF</td>\n",
       "    </tr>\n",
       "    <tr>\n",
       "      <th>2</th>\n",
       "      <td>BGL</td>\n",
       "      <td>Baghlan</td>\n",
       "      <td>AF</td>\n",
       "    </tr>\n",
       "  </tbody>\n",
       "</table>\n",
       "</div>"
      ],
      "text/plain": [
       "  State Code  State Name Country Code\n",
       "0        BDS  Badakhshan           AF\n",
       "2        BGL     Baghlan           AF"
      ]
     },
     "execution_count": 34,
     "metadata": {},
     "output_type": "execute_result"
    }
   ],
   "source": [
    "States.loc[[0, 2], :]"
   ]
  },
  {
   "cell_type": "code",
   "execution_count": 35,
   "id": "0b04aad2-043d-45d0-b9d6-e6ed5b680844",
   "metadata": {},
   "outputs": [
    {
     "data": {
      "text/html": [
       "<div>\n",
       "<style scoped>\n",
       "    .dataframe tbody tr th:only-of-type {\n",
       "        vertical-align: middle;\n",
       "    }\n",
       "\n",
       "    .dataframe tbody tr th {\n",
       "        vertical-align: top;\n",
       "    }\n",
       "\n",
       "    .dataframe thead th {\n",
       "        text-align: right;\n",
       "    }\n",
       "</style>\n",
       "<table border=\"1\" class=\"dataframe\">\n",
       "  <thead>\n",
       "    <tr style=\"text-align: right;\">\n",
       "      <th></th>\n",
       "      <th>State Code</th>\n",
       "      <th>State Name</th>\n",
       "      <th>Country Code</th>\n",
       "    </tr>\n",
       "  </thead>\n",
       "  <tbody>\n",
       "    <tr>\n",
       "      <th>0</th>\n",
       "      <td>BDS</td>\n",
       "      <td>Badakhshan</td>\n",
       "      <td>AF</td>\n",
       "    </tr>\n",
       "    <tr>\n",
       "      <th>2</th>\n",
       "      <td>BGL</td>\n",
       "      <td>Baghlan</td>\n",
       "      <td>AF</td>\n",
       "    </tr>\n",
       "  </tbody>\n",
       "</table>\n",
       "</div>"
      ],
      "text/plain": [
       "  State Code  State Name Country Code\n",
       "0        BDS  Badakhshan           AF\n",
       "2        BGL     Baghlan           AF"
      ]
     },
     "execution_count": 35,
     "metadata": {},
     "output_type": "execute_result"
    }
   ],
   "source": [
    "States.iloc[[0, 2], :]"
   ]
  },
  {
   "cell_type": "markdown",
   "id": "93594557-6bd8-467e-be15-c5459358aa59",
   "metadata": {},
   "source": [
    "Exercise 3: Select the 2nd (refer to index) to 4th (refer to index) rows for State Code and Country Code columns in states_by_country_code.csv file. Do .iloc method for rows and .loc method for columns relying on a shortcut data.iloc[].loc[]"
   ]
  },
  {
   "cell_type": "code",
   "execution_count": 36,
   "id": "be958f4c-0478-4e05-bcf9-f45cf0ab098d",
   "metadata": {},
   "outputs": [
    {
     "data": {
      "text/html": [
       "<div>\n",
       "<style scoped>\n",
       "    .dataframe tbody tr th:only-of-type {\n",
       "        vertical-align: middle;\n",
       "    }\n",
       "\n",
       "    .dataframe tbody tr th {\n",
       "        vertical-align: top;\n",
       "    }\n",
       "\n",
       "    .dataframe thead th {\n",
       "        text-align: right;\n",
       "    }\n",
       "</style>\n",
       "<table border=\"1\" class=\"dataframe\">\n",
       "  <thead>\n",
       "    <tr style=\"text-align: right;\">\n",
       "      <th></th>\n",
       "      <th>State Code</th>\n",
       "      <th>Country Code</th>\n",
       "    </tr>\n",
       "  </thead>\n",
       "  <tbody>\n",
       "    <tr>\n",
       "      <th>2</th>\n",
       "      <td>BGL</td>\n",
       "      <td>AF</td>\n",
       "    </tr>\n",
       "    <tr>\n",
       "      <th>3</th>\n",
       "      <td>BAL</td>\n",
       "      <td>AF</td>\n",
       "    </tr>\n",
       "    <tr>\n",
       "      <th>4</th>\n",
       "      <td>BAM</td>\n",
       "      <td>AF</td>\n",
       "    </tr>\n",
       "  </tbody>\n",
       "</table>\n",
       "</div>"
      ],
      "text/plain": [
       "  State Code Country Code\n",
       "2        BGL           AF\n",
       "3        BAL           AF\n",
       "4        BAM           AF"
      ]
     },
     "execution_count": 36,
     "metadata": {},
     "output_type": "execute_result"
    }
   ],
   "source": [
    "States.iloc[2:5,:].loc[:,['State Code','Country Code']]"
   ]
  },
  {
   "cell_type": "markdown",
   "id": "c800617e-5cd2-41e6-bc28-6fb9335637b2",
   "metadata": {},
   "source": [
    "Exercise 4: Extract the 'BDS' from states_by_country_code.csv file by .iloc method"
   ]
  },
  {
   "cell_type": "code",
   "execution_count": 37,
   "id": "a3c8b4d9-1063-45d7-a500-6ab7dbb32adb",
   "metadata": {},
   "outputs": [
    {
     "data": {
      "text/plain": [
       "'BDS'"
      ]
     },
     "execution_count": 37,
     "metadata": {},
     "output_type": "execute_result"
    }
   ],
   "source": [
    "States.iloc[0, 0]"
   ]
  },
  {
   "cell_type": "code",
   "execution_count": 38,
   "id": "12b889dc-1e99-4743-b0da-cd9320afc84a",
   "metadata": {},
   "outputs": [
    {
     "name": "stdout",
     "output_type": "stream",
     "text": [
      "                  name alpha-2 alpha-3  country-code     iso_3166-2   region   \n",
      "0          Afghanistan      AF     AFG             4  ISO 3166-2:AF     Asia  \\\n",
      "1        Åland Islands      AX     ALA           248  ISO 3166-2:AX   Europe   \n",
      "2              Albania      AL     ALB             8  ISO 3166-2:AL   Europe   \n",
      "3              Algeria      DZ     DZA            12  ISO 3166-2:DZ   Africa   \n",
      "4       American Samoa      AS     ASM            16  ISO 3166-2:AS  Oceania   \n",
      "..                 ...     ...     ...           ...            ...      ...   \n",
      "244  Wallis and Futuna      WF     WLF           876  ISO 3166-2:WF  Oceania   \n",
      "245     Western Sahara      EH     ESH           732  ISO 3166-2:EH   Africa   \n",
      "246              Yemen      YE     YEM           887  ISO 3166-2:YE     Asia   \n",
      "247             Zambia      ZM     ZMB           894  ISO 3166-2:ZM   Africa   \n",
      "248           Zimbabwe      ZW     ZWE           716  ISO 3166-2:ZW   Africa   \n",
      "\n",
      "             sub-region intermediate-region  region-code  sub-region-code   \n",
      "0         Southern Asia                 NaN        142.0             34.0  \\\n",
      "1       Northern Europe                 NaN        150.0            154.0   \n",
      "2       Southern Europe                 NaN        150.0             39.0   \n",
      "3       Northern Africa                 NaN          2.0             15.0   \n",
      "4             Polynesia                 NaN          9.0             61.0   \n",
      "..                  ...                 ...          ...              ...   \n",
      "244           Polynesia                 NaN          9.0             61.0   \n",
      "245     Northern Africa                 NaN          2.0             15.0   \n",
      "246        Western Asia                 NaN        142.0            145.0   \n",
      "247  Sub-Saharan Africa      Eastern Africa          2.0            202.0   \n",
      "248  Sub-Saharan Africa      Eastern Africa          2.0            202.0   \n",
      "\n",
      "     intermediate-region-code  \n",
      "0                         NaN  \n",
      "1                         NaN  \n",
      "2                         NaN  \n",
      "3                         NaN  \n",
      "4                         NaN  \n",
      "..                        ...  \n",
      "244                       NaN  \n",
      "245                       NaN  \n",
      "246                       NaN  \n",
      "247                      14.0  \n",
      "248                      14.0  \n",
      "\n",
      "[249 rows x 11 columns]\n"
     ]
    },
    {
     "data": {
      "text/plain": [
       "array([142., 150., 150.,   2.,   9.])"
      ]
     },
     "execution_count": 38,
     "metadata": {},
     "output_type": "execute_result"
    }
   ],
   "source": [
    "country = pd.read_csv('country_full.csv')\n",
    "print(country)\n",
    "country['region-code'].iloc[0:5].to_numpy()"
   ]
  },
  {
   "cell_type": "code",
   "execution_count": 39,
   "id": "50f60d87-fbee-4a1e-9795-9658d3f3e831",
   "metadata": {},
   "outputs": [
    {
     "data": {
      "text/plain": [
       "array([[142.,  34.,  nan],\n",
       "       [150., 154.,  nan],\n",
       "       [150.,  39.,  nan],\n",
       "       [  2.,  15.,  nan],\n",
       "       [  9.,  61.,  nan]])"
      ]
     },
     "execution_count": 39,
     "metadata": {},
     "output_type": "execute_result"
    }
   ],
   "source": [
    "country.iloc[0:5, 8:11].to_numpy() "
   ]
  },
  {
   "cell_type": "code",
   "execution_count": 40,
   "id": "36809007-6be1-4fc3-82f0-3dd41c8189e9",
   "metadata": {},
   "outputs": [],
   "source": [
    "a = country['region-code'].iloc[0:5]"
   ]
  },
  {
   "cell_type": "code",
   "execution_count": 41,
   "id": "3d1996ba-6fe2-4875-8926-24e22b252ce6",
   "metadata": {},
   "outputs": [
    {
     "data": {
      "text/plain": [
       "[142.0, 150.0, 150.0, 2.0, 9.0]"
      ]
     },
     "execution_count": 41,
     "metadata": {},
     "output_type": "execute_result"
    }
   ],
   "source": [
    "a.to_list()"
   ]
  },
  {
   "cell_type": "code",
   "execution_count": 42,
   "id": "cd569f17-cfd9-4f66-ba6f-3f0f106ad443",
   "metadata": {},
   "outputs": [
    {
     "data": {
      "text/plain": [
       "[[142.0, 34.0, nan],\n",
       " [150.0, 154.0, nan],\n",
       " [150.0, 39.0, nan],\n",
       " [2.0, 15.0, nan],\n",
       " [9.0, 61.0, nan]]"
      ]
     },
     "execution_count": 42,
     "metadata": {},
     "output_type": "execute_result"
    }
   ],
   "source": [
    "country.iloc[0:5, 8:11].to_numpy().tolist()"
   ]
  },
  {
   "cell_type": "markdown",
   "id": "a790508e-faf5-4bf2-bc94-ad681cc894e4",
   "metadata": {},
   "source": [
    "Exercise 5: Read the currency.csv file, select a series as well as a dataframe and convert them to the array and to the list "
   ]
  },
  {
   "cell_type": "code",
   "execution_count": 43,
   "id": "7f533b95-9d49-4250-908f-8562f6b3b769",
   "metadata": {},
   "outputs": [
    {
     "name": "stdout",
     "output_type": "stream",
     "text": [
      "    Code Symbol                      Name\n",
      "0    AED    د.إ    United Arab Emirates d\n",
      "1    AFN      ؋            Afghan afghani\n",
      "2    ALL      L              Albanian lek\n",
      "3    AMD    AMD             Armenian dram\n",
      "4    ANG      ƒ  Netherlands Antillean gu\n",
      "..   ...    ...                       ...\n",
      "158  XOF    CFA    West African CFA franc\n",
      "159  XPF     Fr                 CFP franc\n",
      "160  YER      ﷼               Yemeni rial\n",
      "161  ZAR      R        South African rand\n",
      "162  ZMW     ZK            Zambian kwacha\n",
      "\n",
      "[163 rows x 3 columns]\n"
     ]
    }
   ],
   "source": [
    "currency = pd.read_csv('currency.csv')\n",
    "print(currency)"
   ]
  },
  {
   "cell_type": "code",
   "execution_count": 44,
   "id": "b51670a6-6f62-46e2-9659-bfd6b44c1748",
   "metadata": {},
   "outputs": [
    {
     "data": {
      "text/plain": [
       "array(['د.إ', '؋', 'L'], dtype=object)"
      ]
     },
     "execution_count": 44,
     "metadata": {},
     "output_type": "execute_result"
    }
   ],
   "source": [
    "currency['Symbol'].iloc[0:3].to_numpy()"
   ]
  },
  {
   "cell_type": "code",
   "execution_count": 45,
   "id": "b6675f6f-d5f4-4078-98f2-6042f46507a4",
   "metadata": {},
   "outputs": [
    {
     "data": {
      "text/plain": [
       "array([['AED', 'د.إ'],\n",
       "       ['AFN', '؋'],\n",
       "       ['ALL', 'L'],\n",
       "       ['AMD', 'AMD'],\n",
       "       ['ANG', 'ƒ']], dtype=object)"
      ]
     },
     "execution_count": 45,
     "metadata": {},
     "output_type": "execute_result"
    }
   ],
   "source": [
    "currency.iloc[0:5, :2].to_numpy() "
   ]
  },
  {
   "cell_type": "code",
   "execution_count": 46,
   "id": "0ae5a8cd-f0f9-408c-993c-f460cc3d36b6",
   "metadata": {},
   "outputs": [
    {
     "data": {
      "text/plain": [
       "['د.إ', '؋', 'L']"
      ]
     },
     "execution_count": 46,
     "metadata": {},
     "output_type": "execute_result"
    }
   ],
   "source": [
    "b = currency['Symbol'].iloc[0:3]\n",
    "b.to_list()"
   ]
  },
  {
   "cell_type": "code",
   "execution_count": 47,
   "id": "ff675c41-4295-4d5e-9ec4-57631924c8f9",
   "metadata": {},
   "outputs": [
    {
     "data": {
      "text/plain": [
       "[['AED', 'د.إ'], ['AFN', '؋'], ['ALL', 'L'], ['AMD', 'AMD'], ['ANG', 'ƒ']]"
      ]
     },
     "execution_count": 47,
     "metadata": {},
     "output_type": "execute_result"
    }
   ],
   "source": [
    "currency.iloc[0:5, :2].to_numpy().tolist()"
   ]
  },
  {
   "cell_type": "code",
   "execution_count": 48,
   "id": "d2d079d6-b302-4d08-8b16-c5df8856b232",
   "metadata": {},
   "outputs": [
    {
     "name": "stdout",
     "output_type": "stream",
     "text": [
      "0    1\n",
      "1    7\n",
      "2    9\n",
      "dtype: int64\n"
     ]
    }
   ],
   "source": [
    "h= pd.Series(np.array([1,7,9]))\n",
    "print(h)"
   ]
  },
  {
   "cell_type": "code",
   "execution_count": 49,
   "id": "3e593fd0-ba39-4f32-9cea-70f382e38fe1",
   "metadata": {},
   "outputs": [
    {
     "name": "stdout",
     "output_type": "stream",
     "text": [
      "a    1\n",
      "b    7\n",
      "c    9\n",
      "dtype: int64\n"
     ]
    }
   ],
   "source": [
    "h.index = ['a', 'b', 'c']\n",
    "print(h)"
   ]
  },
  {
   "cell_type": "code",
   "execution_count": 50,
   "id": "d428fa67-284b-4703-9f1d-9cf0e54a9bb1",
   "metadata": {},
   "outputs": [
    {
     "name": "stdout",
     "output_type": "stream",
     "text": [
      "     State Code                   State Name Country Code\n",
      "0           BDS                   Badakhshan           AF\n",
      "1           BDG                      Badghis           AF\n",
      "2           BGL                      Baghlan           AF\n",
      "3           BAL                        Balkh           AF\n",
      "4           BAM                       Bamyan           AF\n",
      "...         ...                          ...          ...\n",
      "4984         MW    Mashonaland West Province           ZW\n",
      "4985         MV            Masvingo Province           ZW\n",
      "4986         MN  Matabeleland North Province           ZW\n",
      "4987         MS  Matabeleland South Province           ZW\n",
      "4988         MI            Midlands Province           ZW\n",
      "\n",
      "[4989 rows x 3 columns]\n"
     ]
    }
   ],
   "source": [
    "States = pd.read_csv('states_by_country_code.csv')\n",
    "print(States)"
   ]
  },
  {
   "cell_type": "code",
   "execution_count": 51,
   "id": "816a1f5e-c4ac-453f-93d8-e04059ad228c",
   "metadata": {},
   "outputs": [
    {
     "name": "stdout",
     "output_type": "stream",
     "text": [
      "                             State Name Country Code\n",
      "State Code                                          \n",
      "BDS                          Badakhshan           AF\n",
      "BDG                             Badghis           AF\n",
      "BGL                             Baghlan           AF\n",
      "BAL                               Balkh           AF\n",
      "BAM                              Bamyan           AF\n",
      "...                                 ...          ...\n",
      "MW            Mashonaland West Province           ZW\n",
      "MV                    Masvingo Province           ZW\n",
      "MN          Matabeleland North Province           ZW\n",
      "MS          Matabeleland South Province           ZW\n",
      "MI                    Midlands Province           ZW\n",
      "\n",
      "[4989 rows x 2 columns]\n"
     ]
    }
   ],
   "source": [
    "States = States.set_index('State Code')\n",
    "print(States)"
   ]
  },
  {
   "cell_type": "code",
   "execution_count": 52,
   "id": "3a622886-6646-4c06-b25c-0b8d71b22735",
   "metadata": {},
   "outputs": [
    {
     "data": {
      "text/plain": [
       "0    1\n",
       "1    7\n",
       "2    9\n",
       "dtype: int64"
      ]
     },
     "execution_count": 52,
     "metadata": {},
     "output_type": "execute_result"
    }
   ],
   "source": [
    "h.reset_index(drop=True)"
   ]
  },
  {
   "cell_type": "code",
   "execution_count": 53,
   "id": "4de1009f-b24d-4d39-993e-c0117256d32c",
   "metadata": {},
   "outputs": [
    {
     "data": {
      "text/html": [
       "<div>\n",
       "<style scoped>\n",
       "    .dataframe tbody tr th:only-of-type {\n",
       "        vertical-align: middle;\n",
       "    }\n",
       "\n",
       "    .dataframe tbody tr th {\n",
       "        vertical-align: top;\n",
       "    }\n",
       "\n",
       "    .dataframe thead th {\n",
       "        text-align: right;\n",
       "    }\n",
       "</style>\n",
       "<table border=\"1\" class=\"dataframe\">\n",
       "  <thead>\n",
       "    <tr style=\"text-align: right;\">\n",
       "      <th></th>\n",
       "      <th>State Code</th>\n",
       "      <th>State Name</th>\n",
       "      <th>Country Code</th>\n",
       "    </tr>\n",
       "  </thead>\n",
       "  <tbody>\n",
       "    <tr>\n",
       "      <th>0</th>\n",
       "      <td>BDS</td>\n",
       "      <td>Badakhshan</td>\n",
       "      <td>AF</td>\n",
       "    </tr>\n",
       "    <tr>\n",
       "      <th>1</th>\n",
       "      <td>BDG</td>\n",
       "      <td>Badghis</td>\n",
       "      <td>AF</td>\n",
       "    </tr>\n",
       "    <tr>\n",
       "      <th>2</th>\n",
       "      <td>BGL</td>\n",
       "      <td>Baghlan</td>\n",
       "      <td>AF</td>\n",
       "    </tr>\n",
       "    <tr>\n",
       "      <th>3</th>\n",
       "      <td>BAL</td>\n",
       "      <td>Balkh</td>\n",
       "      <td>AF</td>\n",
       "    </tr>\n",
       "    <tr>\n",
       "      <th>4</th>\n",
       "      <td>BAM</td>\n",
       "      <td>Bamyan</td>\n",
       "      <td>AF</td>\n",
       "    </tr>\n",
       "    <tr>\n",
       "      <th>...</th>\n",
       "      <td>...</td>\n",
       "      <td>...</td>\n",
       "      <td>...</td>\n",
       "    </tr>\n",
       "    <tr>\n",
       "      <th>4984</th>\n",
       "      <td>MW</td>\n",
       "      <td>Mashonaland West Province</td>\n",
       "      <td>ZW</td>\n",
       "    </tr>\n",
       "    <tr>\n",
       "      <th>4985</th>\n",
       "      <td>MV</td>\n",
       "      <td>Masvingo Province</td>\n",
       "      <td>ZW</td>\n",
       "    </tr>\n",
       "    <tr>\n",
       "      <th>4986</th>\n",
       "      <td>MN</td>\n",
       "      <td>Matabeleland North Province</td>\n",
       "      <td>ZW</td>\n",
       "    </tr>\n",
       "    <tr>\n",
       "      <th>4987</th>\n",
       "      <td>MS</td>\n",
       "      <td>Matabeleland South Province</td>\n",
       "      <td>ZW</td>\n",
       "    </tr>\n",
       "    <tr>\n",
       "      <th>4988</th>\n",
       "      <td>MI</td>\n",
       "      <td>Midlands Province</td>\n",
       "      <td>ZW</td>\n",
       "    </tr>\n",
       "  </tbody>\n",
       "</table>\n",
       "<p>4989 rows × 3 columns</p>\n",
       "</div>"
      ],
      "text/plain": [
       "     State Code                   State Name Country Code\n",
       "0           BDS                   Badakhshan           AF\n",
       "1           BDG                      Badghis           AF\n",
       "2           BGL                      Baghlan           AF\n",
       "3           BAL                        Balkh           AF\n",
       "4           BAM                       Bamyan           AF\n",
       "...         ...                          ...          ...\n",
       "4984         MW    Mashonaland West Province           ZW\n",
       "4985         MV            Masvingo Province           ZW\n",
       "4986         MN  Matabeleland North Province           ZW\n",
       "4987         MS  Matabeleland South Province           ZW\n",
       "4988         MI            Midlands Province           ZW\n",
       "\n",
       "[4989 rows x 3 columns]"
      ]
     },
     "execution_count": 53,
     "metadata": {},
     "output_type": "execute_result"
    }
   ],
   "source": [
    "States = States.reset_index()\n",
    "States"
   ]
  },
  {
   "cell_type": "code",
   "execution_count": 54,
   "id": "b3714650-227e-4ca5-b39c-381443c67e0e",
   "metadata": {},
   "outputs": [
    {
     "data": {
      "text/html": [
       "<div>\n",
       "<style scoped>\n",
       "    .dataframe tbody tr th:only-of-type {\n",
       "        vertical-align: middle;\n",
       "    }\n",
       "\n",
       "    .dataframe tbody tr th {\n",
       "        vertical-align: top;\n",
       "    }\n",
       "\n",
       "    .dataframe thead th {\n",
       "        text-align: right;\n",
       "    }\n",
       "</style>\n",
       "<table border=\"1\" class=\"dataframe\">\n",
       "  <thead>\n",
       "    <tr style=\"text-align: right;\">\n",
       "      <th></th>\n",
       "      <th>State Code</th>\n",
       "      <th>State Name</th>\n",
       "      <th>Country Code</th>\n",
       "    </tr>\n",
       "  </thead>\n",
       "  <tbody>\n",
       "    <tr>\n",
       "      <th>4948</th>\n",
       "      <td>AD</td>\n",
       "      <td>'Adan</td>\n",
       "      <td>YE</td>\n",
       "    </tr>\n",
       "    <tr>\n",
       "      <th>4949</th>\n",
       "      <td>AM</td>\n",
       "      <td>'Amran</td>\n",
       "      <td>YE</td>\n",
       "    </tr>\n",
       "    <tr>\n",
       "      <th>3483</th>\n",
       "      <td>14</td>\n",
       "      <td>'Asir</td>\n",
       "      <td>SA</td>\n",
       "    </tr>\n",
       "    <tr>\n",
       "      <th>3850</th>\n",
       "      <td>C</td>\n",
       "      <td>A Coruña</td>\n",
       "      <td>ES</td>\n",
       "    </tr>\n",
       "    <tr>\n",
       "      <th>3461</th>\n",
       "      <td>AA</td>\n",
       "      <td>A'ana</td>\n",
       "      <td>WS</td>\n",
       "    </tr>\n",
       "    <tr>\n",
       "      <th>...</th>\n",
       "      <td>...</td>\n",
       "      <td>...</td>\n",
       "      <td>...</td>\n",
       "    </tr>\n",
       "    <tr>\n",
       "      <th>3787</th>\n",
       "      <td>193</td>\n",
       "      <td>Žužemberk Municipality</td>\n",
       "      <td>SI</td>\n",
       "    </tr>\n",
       "    <tr>\n",
       "      <th>993</th>\n",
       "      <td>635</td>\n",
       "      <td>Žďár nad Sázavou</td>\n",
       "      <td>CZ</td>\n",
       "    </tr>\n",
       "    <tr>\n",
       "      <th>2685</th>\n",
       "      <td>SD</td>\n",
       "      <td>Șoldănești District</td>\n",
       "      <td>MD</td>\n",
       "    </tr>\n",
       "    <tr>\n",
       "      <th>2687</th>\n",
       "      <td>SV</td>\n",
       "      <td>Ștefan Vodă District</td>\n",
       "      <td>MD</td>\n",
       "    </tr>\n",
       "    <tr>\n",
       "      <th>4208</th>\n",
       "      <td>1</td>\n",
       "      <td>ʻEua</td>\n",
       "      <td>TO</td>\n",
       "    </tr>\n",
       "  </tbody>\n",
       "</table>\n",
       "<p>4989 rows × 3 columns</p>\n",
       "</div>"
      ],
      "text/plain": [
       "     State Code              State Name Country Code\n",
       "4948         AD                   'Adan           YE\n",
       "4949         AM                  'Amran           YE\n",
       "3483         14                   'Asir           SA\n",
       "3850          C                A Coruña           ES\n",
       "3461         AA                   A'ana           WS\n",
       "...         ...                     ...          ...\n",
       "3787        193  Žužemberk Municipality           SI\n",
       "993         635        Žďár nad Sázavou           CZ\n",
       "2685         SD     Șoldănești District           MD\n",
       "2687         SV    Ștefan Vodă District           MD\n",
       "4208          1                    ʻEua           TO\n",
       "\n",
       "[4989 rows x 3 columns]"
      ]
     },
     "execution_count": 54,
     "metadata": {},
     "output_type": "execute_result"
    }
   ],
   "source": [
    "States.sort_values('State Name')"
   ]
  },
  {
   "cell_type": "code",
   "execution_count": 55,
   "id": "cc5817ce-6ed5-43dc-876f-d9897ff604b7",
   "metadata": {},
   "outputs": [
    {
     "data": {
      "text/html": [
       "<div>\n",
       "<style scoped>\n",
       "    .dataframe tbody tr th:only-of-type {\n",
       "        vertical-align: middle;\n",
       "    }\n",
       "\n",
       "    .dataframe tbody tr th {\n",
       "        vertical-align: top;\n",
       "    }\n",
       "\n",
       "    .dataframe thead th {\n",
       "        text-align: right;\n",
       "    }\n",
       "</style>\n",
       "<table border=\"1\" class=\"dataframe\">\n",
       "  <thead>\n",
       "    <tr style=\"text-align: right;\">\n",
       "      <th></th>\n",
       "      <th>State Code</th>\n",
       "      <th>State Name</th>\n",
       "      <th>Country Code</th>\n",
       "    </tr>\n",
       "  </thead>\n",
       "  <tbody>\n",
       "    <tr>\n",
       "      <th>4208</th>\n",
       "      <td>1</td>\n",
       "      <td>ʻEua</td>\n",
       "      <td>TO</td>\n",
       "    </tr>\n",
       "    <tr>\n",
       "      <th>2687</th>\n",
       "      <td>SV</td>\n",
       "      <td>Ștefan Vodă District</td>\n",
       "      <td>MD</td>\n",
       "    </tr>\n",
       "    <tr>\n",
       "      <th>2685</th>\n",
       "      <td>SD</td>\n",
       "      <td>Șoldănești District</td>\n",
       "      <td>MD</td>\n",
       "    </tr>\n",
       "    <tr>\n",
       "      <th>993</th>\n",
       "      <td>635</td>\n",
       "      <td>Žďár nad Sázavou</td>\n",
       "      <td>CZ</td>\n",
       "    </tr>\n",
       "    <tr>\n",
       "      <th>3787</th>\n",
       "      <td>193</td>\n",
       "      <td>Žužemberk Municipality</td>\n",
       "      <td>SI</td>\n",
       "    </tr>\n",
       "    <tr>\n",
       "      <th>...</th>\n",
       "      <td>...</td>\n",
       "      <td>...</td>\n",
       "      <td>...</td>\n",
       "    </tr>\n",
       "    <tr>\n",
       "      <th>3461</th>\n",
       "      <td>AA</td>\n",
       "      <td>A'ana</td>\n",
       "      <td>WS</td>\n",
       "    </tr>\n",
       "    <tr>\n",
       "      <th>3850</th>\n",
       "      <td>C</td>\n",
       "      <td>A Coruña</td>\n",
       "      <td>ES</td>\n",
       "    </tr>\n",
       "    <tr>\n",
       "      <th>3483</th>\n",
       "      <td>14</td>\n",
       "      <td>'Asir</td>\n",
       "      <td>SA</td>\n",
       "    </tr>\n",
       "    <tr>\n",
       "      <th>4949</th>\n",
       "      <td>AM</td>\n",
       "      <td>'Amran</td>\n",
       "      <td>YE</td>\n",
       "    </tr>\n",
       "    <tr>\n",
       "      <th>4948</th>\n",
       "      <td>AD</td>\n",
       "      <td>'Adan</td>\n",
       "      <td>YE</td>\n",
       "    </tr>\n",
       "  </tbody>\n",
       "</table>\n",
       "<p>4989 rows × 3 columns</p>\n",
       "</div>"
      ],
      "text/plain": [
       "     State Code              State Name Country Code\n",
       "4208          1                    ʻEua           TO\n",
       "2687         SV    Ștefan Vodă District           MD\n",
       "2685         SD     Șoldănești District           MD\n",
       "993         635        Žďár nad Sázavou           CZ\n",
       "3787        193  Žužemberk Municipality           SI\n",
       "...         ...                     ...          ...\n",
       "3461         AA                   A'ana           WS\n",
       "3850          C                A Coruña           ES\n",
       "3483         14                   'Asir           SA\n",
       "4949         AM                  'Amran           YE\n",
       "4948         AD                   'Adan           YE\n",
       "\n",
       "[4989 rows x 3 columns]"
      ]
     },
     "execution_count": 55,
     "metadata": {},
     "output_type": "execute_result"
    }
   ],
   "source": [
    "States.sort_values('State Name', ascending=False)"
   ]
  },
  {
   "cell_type": "code",
   "execution_count": 56,
   "id": "eccf839e-ebef-4ecc-9a6b-9175d34c3696",
   "metadata": {},
   "outputs": [],
   "source": [
    "###plotting"
   ]
  },
  {
   "cell_type": "code",
   "execution_count": 57,
   "id": "b26ddbe6-abe3-46d4-a51a-ca3a1c1fdbac",
   "metadata": {},
   "outputs": [
    {
     "name": "stdout",
     "output_type": "stream",
     "text": [
      "                  name alpha-2 alpha-3  country-code     iso_3166-2   region   \n",
      "0          Afghanistan      AF     AFG             4  ISO 3166-2:AF     Asia  \\\n",
      "1        Åland Islands      AX     ALA           248  ISO 3166-2:AX   Europe   \n",
      "2              Albania      AL     ALB             8  ISO 3166-2:AL   Europe   \n",
      "3              Algeria      DZ     DZA            12  ISO 3166-2:DZ   Africa   \n",
      "4       American Samoa      AS     ASM            16  ISO 3166-2:AS  Oceania   \n",
      "..                 ...     ...     ...           ...            ...      ...   \n",
      "244  Wallis and Futuna      WF     WLF           876  ISO 3166-2:WF  Oceania   \n",
      "245     Western Sahara      EH     ESH           732  ISO 3166-2:EH   Africa   \n",
      "246              Yemen      YE     YEM           887  ISO 3166-2:YE     Asia   \n",
      "247             Zambia      ZM     ZMB           894  ISO 3166-2:ZM   Africa   \n",
      "248           Zimbabwe      ZW     ZWE           716  ISO 3166-2:ZW   Africa   \n",
      "\n",
      "             sub-region intermediate-region  region-code  sub-region-code   \n",
      "0         Southern Asia                 NaN        142.0             34.0  \\\n",
      "1       Northern Europe                 NaN        150.0            154.0   \n",
      "2       Southern Europe                 NaN        150.0             39.0   \n",
      "3       Northern Africa                 NaN          2.0             15.0   \n",
      "4             Polynesia                 NaN          9.0             61.0   \n",
      "..                  ...                 ...          ...              ...   \n",
      "244           Polynesia                 NaN          9.0             61.0   \n",
      "245     Northern Africa                 NaN          2.0             15.0   \n",
      "246        Western Asia                 NaN        142.0            145.0   \n",
      "247  Sub-Saharan Africa      Eastern Africa          2.0            202.0   \n",
      "248  Sub-Saharan Africa      Eastern Africa          2.0            202.0   \n",
      "\n",
      "     intermediate-region-code  \n",
      "0                         NaN  \n",
      "1                         NaN  \n",
      "2                         NaN  \n",
      "3                         NaN  \n",
      "4                         NaN  \n",
      "..                        ...  \n",
      "244                       NaN  \n",
      "245                       NaN  \n",
      "246                       NaN  \n",
      "247                      14.0  \n",
      "248                      14.0  \n",
      "\n",
      "[249 rows x 11 columns]\n"
     ]
    }
   ],
   "source": [
    "country = pd.read_csv('country_full.csv')\n",
    "print(country)"
   ]
  },
  {
   "cell_type": "code",
   "execution_count": 58,
   "id": "6c95ddae-fcc1-4af9-aa83-92e0a7c37427",
   "metadata": {},
   "outputs": [
    {
     "data": {
      "image/png": "[encoded data removed]",
      "text/plain": [
       "<Figure size 640x480 with 2 Axes>"
      ]
     },
     "metadata": {},
     "output_type": "display_data"
    }
   ],
   "source": [
    "country[['country-code', 'region-code']].hist();"
   ]
  },
  {
   "cell_type": "markdown",
   "id": "5d3cfa29-6469-46af-8865-7bcef5c1b19e",
   "metadata": {},
   "source": [
    "Try it on 2nd row and all the columns"
   ]
  },
  {
   "cell_type": "code",
   "execution_count": 59,
   "id": "b7a6c0e3-038a-4b06-b72f-aa1177be79cd",
   "metadata": {},
   "outputs": [
    {
     "data": {
      "image/png": "[encoded data removed]",
      "text/plain": [
       "<Figure size 640x480 with 4 Axes>"
      ]
     },
     "metadata": {},
     "output_type": "display_data"
    }
   ],
   "source": [
    "country.iloc[[0], :].hist();"
   ]
  },
  {
   "cell_type": "code",
   "execution_count": 60,
   "id": "d92a1b13-eb9e-469e-b3ca-812f762aaad6",
   "metadata": {},
   "outputs": [
    {
     "data": {
      "image/png": "[encoded data removed]",
      "text/plain": [
       "<Figure size 640x480 with 1 Axes>"
      ]
     },
     "metadata": {},
     "output_type": "display_data"
    }
   ],
   "source": [
    "country['country-code'].plot();"
   ]
  },
  {
   "cell_type": "code",
   "execution_count": 61,
   "id": "98f3e996-7bd5-480b-b5ab-cf45fd23d4e8",
   "metadata": {},
   "outputs": [
    {
     "data": {
      "image/png": "[encoded data removed]",
      "text/plain": [
       "<Figure size 640x480 with 1 Axes>"
      ]
     },
     "metadata": {},
     "output_type": "display_data"
    }
   ],
   "source": [
    "country.set_index('name')['country-code'].plot();"
   ]
  },
  {
   "cell_type": "code",
   "execution_count": 62,
   "id": "b4ff9770-d91a-45b4-a47a-cd78f220e8b0",
   "metadata": {},
   "outputs": [
    {
     "data": {
      "image/png": "[encoded data removed]",
      "text/plain": [
       "<Figure size 640x480 with 1 Axes>"
      ]
     },
     "metadata": {},
     "output_type": "display_data"
    }
   ],
   "source": [
    "country.plot.scatter(x='country-code', y='region-code');"
   ]
  },
  {
   "cell_type": "markdown",
   "id": "f4ae1168-7db4-42cc-968c-46340f7b47e5",
   "metadata": {},
   "source": [
    "Exercise 6: Read the climate.csv file to a variable named 'climate', generate a line plot from 'Temperature (Celsius)', in the next step change the index to Country and in the 3rd step create a plot with all 3 variables. (put the title and axes labels)"
   ]
  },
  {
   "cell_type": "code",
   "execution_count": 63,
   "id": "1f140fdf-e053-45e9-bacf-e4454313c466",
   "metadata": {
    "tags": []
   },
   "outputs": [
    {
     "name": "stdout",
     "output_type": "stream",
     "text": [
      "           Country        Date  Temperature (Celsius)  Humidity (%)   \n",
      "0    United States  2023-05-01                   22.5            60  \\\n",
      "1    United States  2023-05-02                   20.7            55   \n",
      "2    United States  2023-05-03                   25.2            68   \n",
      "3           Canada  2023-05-01                   18.9            50   \n",
      "4           Canada  2023-05-02                   17.4            48   \n",
      "5           Canada  2023-05-03                   20.1            52   \n",
      "6   United Kingdom  2023-05-01                   15.2            70   \n",
      "7   United Kingdom  2023-05-02                   14.8            72   \n",
      "8   United Kingdom  2023-05-03                   16.5            68   \n",
      "9          Germany  2023-05-01                   20.7            60   \n",
      "10         Germany  2023-05-02                   22.1            62   \n",
      "11         Germany  2023-05-03                   19.8            58   \n",
      "\n",
      "    Wind Speed (km/h)  \n",
      "0                  10  \n",
      "1                  12  \n",
      "2                   8  \n",
      "3                  15  \n",
      "4                  13  \n",
      "5                  10  \n",
      "6                   8  \n",
      "7                   9  \n",
      "8                   7  \n",
      "9                  11  \n",
      "10                 10  \n",
      "11                 12  \n"
     ]
    }
   ],
   "source": [
    "climate = pd.read_csv('climate.csv')\n",
    "print(climate)"
   ]
  },
  {
   "cell_type": "code",
   "execution_count": 64,
   "id": "ec23e43b-d53c-4f06-b5ef-97ecb1632a28",
   "metadata": {},
   "outputs": [
    {
     "data": {
      "image/png": "[encoded data removed]",
      "text/plain": [
       "<Figure size 640x480 with 1 Axes>"
      ]
     },
     "metadata": {},
     "output_type": "display_data"
    }
   ],
   "source": [
    "climate['Temperature (Celsius)'].plot();\n",
    "plt.legend();"
   ]
  },
  {
   "cell_type": "code",
   "execution_count": 65,
   "id": "5e2d4f43-f65d-47a8-8d1f-16acafd1788d",
   "metadata": {},
   "outputs": [
    {
     "data": {
      "image/png": "[encoded data removed]",
      "text/plain": [
       "<Figure size 640x480 with 1 Axes>"
      ]
     },
     "metadata": {},
     "output_type": "display_data"
    }
   ],
   "source": [
    "climate.set_index('Country')['Temperature (Celsius)'].plot();\n",
    "plt.xticks(rotation=45);"
   ]
  },
  {
   "cell_type": "code",
   "execution_count": 66,
   "id": "689e2232-00bd-4242-9250-9036e78bbb34",
   "metadata": {},
   "outputs": [
    {
     "data": {
      "image/png": "[encoded data removed]",
      "text/plain": [
       "<Figure size 640x480 with 1 Axes>"
      ]
     },
     "metadata": {},
     "output_type": "display_data"
    }
   ],
   "source": [
    "climate.set_index('Date')[['Temperature (Celsius)', 'Humidity (%)', 'Wind Speed (km/h)']].plot(linewidth=2.5);\n",
    "plt.xticks(rotation=45);\n",
    "plt.title('climate', fontsize=16);\n",
    "plt.ylabel('values', fontsize=16);\n",
    "plt.xlabel('Date', fontsize=16);\n",
    "plt.tick_params(axis='both', labelsize=12);"
   ]
  },
  {
   "cell_type": "code",
   "execution_count": 67,
   "id": "a43ddb83-f32a-488e-8bf6-e90383831fcd",
   "metadata": {},
   "outputs": [],
   "source": [
    "###Operators"
   ]
  },
  {
   "cell_type": "code",
   "execution_count": 68,
   "id": "7711d987-1054-401f-a656-361e7d89986d",
   "metadata": {},
   "outputs": [
    {
     "name": "stdout",
     "output_type": "stream",
     "text": [
      "           Country        Date  Temperature (Celsius)  Humidity (%)   \n",
      "0    United States  2023-05-01                   22.5            60  \\\n",
      "1    United States  2023-05-02                   20.7            55   \n",
      "2    United States  2023-05-03                   25.2            68   \n",
      "3           Canada  2023-05-01                   18.9            50   \n",
      "4           Canada  2023-05-02                   17.4            48   \n",
      "5           Canada  2023-05-03                   20.1            52   \n",
      "6   United Kingdom  2023-05-01                   15.2            70   \n",
      "7   United Kingdom  2023-05-02                   14.8            72   \n",
      "8   United Kingdom  2023-05-03                   16.5            68   \n",
      "9          Germany  2023-05-01                   20.7            60   \n",
      "10         Germany  2023-05-02                   22.1            62   \n",
      "11         Germany  2023-05-03                   19.8            58   \n",
      "\n",
      "    Wind Speed (km/h)  \n",
      "0                  10  \n",
      "1                  12  \n",
      "2                   8  \n",
      "3                  15  \n",
      "4                  13  \n",
      "5                  10  \n",
      "6                   8  \n",
      "7                   9  \n",
      "8                   7  \n",
      "9                  11  \n",
      "10                 10  \n",
      "11                 12  \n"
     ]
    }
   ],
   "source": [
    "climate = pd.read_csv('climate.csv')\n",
    "print(climate)"
   ]
  },
  {
   "cell_type": "code",
   "execution_count": 69,
   "id": "a1e6091d-da53-4778-acfd-b8f90e008ea1",
   "metadata": {},
   "outputs": [
    {
     "data": {
      "text/plain": [
       "14.8"
      ]
     },
     "execution_count": 69,
     "metadata": {},
     "output_type": "execute_result"
    }
   ],
   "source": [
    "climate['Temperature (Celsius)'].min()"
   ]
  },
  {
   "cell_type": "code",
   "execution_count": 70,
   "id": "ec748240-b9cb-45f3-8a5f-91e01c27cca9",
   "metadata": {},
   "outputs": [
    {
     "data": {
      "text/plain": [
       "25.2"
      ]
     },
     "execution_count": 70,
     "metadata": {},
     "output_type": "execute_result"
    }
   ],
   "source": [
    "climate['Temperature (Celsius)'].max()"
   ]
  },
  {
   "cell_type": "code",
   "execution_count": 71,
   "id": "bd8e531b-d206-4d7a-8c84-75fac3230181",
   "metadata": {},
   "outputs": [
    {
     "data": {
      "text/plain": [
       "19.491666666666667"
      ]
     },
     "execution_count": 71,
     "metadata": {},
     "output_type": "execute_result"
    }
   ],
   "source": [
    "climate['Temperature (Celsius)'].mean()"
   ]
  },
  {
   "cell_type": "code",
   "execution_count": 72,
   "id": "70b1e413-46ff-4d0b-b544-d8d75e040619",
   "metadata": {},
   "outputs": [
    {
     "data": {
      "text/plain": [
       "Temperature (Celsius)    19.491667\n",
       "Humidity (%)             60.250000\n",
       "dtype: float64"
      ]
     },
     "execution_count": 72,
     "metadata": {},
     "output_type": "execute_result"
    }
   ],
   "source": [
    "climate[['Temperature (Celsius)','Humidity (%)']].mean()"
   ]
  },
  {
   "cell_type": "code",
   "execution_count": 73,
   "id": "20003197-7027-4a21-9695-e5a6bf0cda96",
   "metadata": {},
   "outputs": [
    {
     "data": {
      "text/html": [
       "<div>\n",
       "<style scoped>\n",
       "    .dataframe tbody tr th:only-of-type {\n",
       "        vertical-align: middle;\n",
       "    }\n",
       "\n",
       "    .dataframe tbody tr th {\n",
       "        vertical-align: top;\n",
       "    }\n",
       "\n",
       "    .dataframe thead th {\n",
       "        text-align: right;\n",
       "    }\n",
       "</style>\n",
       "<table border=\"1\" class=\"dataframe\">\n",
       "  <thead>\n",
       "    <tr style=\"text-align: right;\">\n",
       "      <th></th>\n",
       "      <th>Temperature (Celsius)</th>\n",
       "      <th>Humidity (%)</th>\n",
       "    </tr>\n",
       "  </thead>\n",
       "  <tbody>\n",
       "    <tr>\n",
       "      <th>0</th>\n",
       "      <td>12.5</td>\n",
       "      <td>50</td>\n",
       "    </tr>\n",
       "    <tr>\n",
       "      <th>1</th>\n",
       "      <td>10.7</td>\n",
       "      <td>45</td>\n",
       "    </tr>\n",
       "    <tr>\n",
       "      <th>2</th>\n",
       "      <td>15.2</td>\n",
       "      <td>58</td>\n",
       "    </tr>\n",
       "    <tr>\n",
       "      <th>3</th>\n",
       "      <td>8.9</td>\n",
       "      <td>40</td>\n",
       "    </tr>\n",
       "    <tr>\n",
       "      <th>4</th>\n",
       "      <td>7.4</td>\n",
       "      <td>38</td>\n",
       "    </tr>\n",
       "    <tr>\n",
       "      <th>5</th>\n",
       "      <td>10.1</td>\n",
       "      <td>42</td>\n",
       "    </tr>\n",
       "    <tr>\n",
       "      <th>6</th>\n",
       "      <td>5.2</td>\n",
       "      <td>60</td>\n",
       "    </tr>\n",
       "    <tr>\n",
       "      <th>7</th>\n",
       "      <td>4.8</td>\n",
       "      <td>62</td>\n",
       "    </tr>\n",
       "    <tr>\n",
       "      <th>8</th>\n",
       "      <td>6.5</td>\n",
       "      <td>58</td>\n",
       "    </tr>\n",
       "    <tr>\n",
       "      <th>9</th>\n",
       "      <td>10.7</td>\n",
       "      <td>50</td>\n",
       "    </tr>\n",
       "    <tr>\n",
       "      <th>10</th>\n",
       "      <td>12.1</td>\n",
       "      <td>52</td>\n",
       "    </tr>\n",
       "    <tr>\n",
       "      <th>11</th>\n",
       "      <td>9.8</td>\n",
       "      <td>48</td>\n",
       "    </tr>\n",
       "  </tbody>\n",
       "</table>\n",
       "</div>"
      ],
      "text/plain": [
       "    Temperature (Celsius)  Humidity (%)\n",
       "0                    12.5            50\n",
       "1                    10.7            45\n",
       "2                    15.2            58\n",
       "3                     8.9            40\n",
       "4                     7.4            38\n",
       "5                    10.1            42\n",
       "6                     5.2            60\n",
       "7                     4.8            62\n",
       "8                     6.5            58\n",
       "9                    10.7            50\n",
       "10                   12.1            52\n",
       "11                    9.8            48"
      ]
     },
     "execution_count": 73,
     "metadata": {},
     "output_type": "execute_result"
    }
   ],
   "source": [
    "climate[['Temperature (Celsius)','Humidity (%)']]-10"
   ]
  },
  {
   "cell_type": "code",
   "execution_count": 74,
   "id": "48c91575-a741-410a-a79d-97a816aea522",
   "metadata": {},
   "outputs": [
    {
     "name": "stdout",
     "output_type": "stream",
     "text": [
      "           Country        Date  Temperature (Celsius)  Humidity (%)   \n",
      "0    United States  2023-05-01                   22.5            60  \\\n",
      "1    United States  2023-05-02                   20.7            55   \n",
      "2    United States  2023-05-03                   25.2            68   \n",
      "3           Canada  2023-05-01                   18.9            50   \n",
      "4           Canada  2023-05-02                   17.4            48   \n",
      "5           Canada  2023-05-03                   20.1            52   \n",
      "6   United Kingdom  2023-05-01                   15.2            70   \n",
      "7   United Kingdom  2023-05-02                   14.8            72   \n",
      "8   United Kingdom  2023-05-03                   16.5            68   \n",
      "9          Germany  2023-05-01                   20.7            60   \n",
      "10         Germany  2023-05-02                   22.1            62   \n",
      "11         Germany  2023-05-03                   19.8            58   \n",
      "\n",
      "    Wind Speed (km/h)    df  \n",
      "0                  10 -37.5  \n",
      "1                  12 -34.3  \n",
      "2                   8 -42.8  \n",
      "3                  15 -31.1  \n",
      "4                  13 -30.6  \n",
      "5                  10 -31.9  \n",
      "6                   8 -54.8  \n",
      "7                   9 -57.2  \n",
      "8                   7 -51.5  \n",
      "9                  11 -39.3  \n",
      "10                 10 -39.9  \n",
      "11                 12 -38.2  \n"
     ]
    }
   ],
   "source": [
    "climate['df'] = climate['Temperature (Celsius)'] - climate['Humidity (%)']\n",
    "print(climate)"
   ]
  },
  {
   "cell_type": "code",
   "execution_count": 75,
   "id": "8ce78109-4c63-4520-b409-f861de6f381a",
   "metadata": {},
   "outputs": [
    {
     "data": {
      "image/png": "[encoded data removed]",
      "text/plain": [
       "<Figure size 640x480 with 1 Axes>"
      ]
     },
     "metadata": {},
     "output_type": "display_data"
    }
   ],
   "source": [
    "climate.set_index('Date')['df'].plot();\n",
    "plt.xticks(rotation=45);"
   ]
  },
  {
   "cell_type": "markdown",
   "id": "8e1db133-d61d-423c-84cf-4b2dbfb19432",
   "metadata": {},
   "source": [
    "Exercise 7: create a column as the sum of the wind speed and humidity and create a scatter plot between the new column and the temperature"
   ]
  },
  {
   "cell_type": "code",
   "execution_count": 76,
   "id": "931381ab-8e33-4cd4-8885-3d906c0fbd2e",
   "metadata": {},
   "outputs": [
    {
     "name": "stdout",
     "output_type": "stream",
     "text": [
      "           Country        Date  Temperature (Celsius)  Humidity (%)   \n",
      "0    United States  2023-05-01                   22.5            60  \\\n",
      "1    United States  2023-05-02                   20.7            55   \n",
      "2    United States  2023-05-03                   25.2            68   \n",
      "3           Canada  2023-05-01                   18.9            50   \n",
      "4           Canada  2023-05-02                   17.4            48   \n",
      "5           Canada  2023-05-03                   20.1            52   \n",
      "6   United Kingdom  2023-05-01                   15.2            70   \n",
      "7   United Kingdom  2023-05-02                   14.8            72   \n",
      "8   United Kingdom  2023-05-03                   16.5            68   \n",
      "9          Germany  2023-05-01                   20.7            60   \n",
      "10         Germany  2023-05-02                   22.1            62   \n",
      "11         Germany  2023-05-03                   19.8            58   \n",
      "\n",
      "    Wind Speed (km/h)    df  sum  \n",
      "0                  10 -37.5   70  \n",
      "1                  12 -34.3   67  \n",
      "2                   8 -42.8   76  \n",
      "3                  15 -31.1   65  \n",
      "4                  13 -30.6   61  \n",
      "5                  10 -31.9   62  \n",
      "6                   8 -54.8   78  \n",
      "7                   9 -57.2   81  \n",
      "8                   7 -51.5   75  \n",
      "9                  11 -39.3   71  \n",
      "10                 10 -39.9   72  \n",
      "11                 12 -38.2   70  \n"
     ]
    }
   ],
   "source": [
    "climate['sum'] = climate['Wind Speed (km/h)'] + climate['Humidity (%)']\n",
    "print(climate)"
   ]
  },
  {
   "cell_type": "code",
   "execution_count": 77,
   "id": "beb8323a-56fe-4af5-9220-fa989e04e50b",
   "metadata": {},
   "outputs": [
    {
     "data": {
      "image/png": "[encoded data removed]",
      "text/plain": [
       "<Figure size 640x480 with 1 Axes>"
      ]
     },
     "metadata": {},
     "output_type": "display_data"
    }
   ],
   "source": [
    "climate.plot.scatter(x='sum', y='Temperature (Celsius)');"
   ]
  },
  {
   "cell_type": "markdown",
   "id": "2086bc06-5012-481b-ae8a-3d588f6ad070",
   "metadata": {},
   "source": [
    "Exercise 8: Add a column named 'rain' with an duplicated value over all rows"
   ]
  },
  {
   "cell_type": "code",
   "execution_count": 78,
   "id": "9b24dc55-5d18-446e-9195-ffaabef74dd8",
   "metadata": {},
   "outputs": [
    {
     "data": {
      "text/html": [
       "<div>\n",
       "<style scoped>\n",
       "    .dataframe tbody tr th:only-of-type {\n",
       "        vertical-align: middle;\n",
       "    }\n",
       "\n",
       "    .dataframe tbody tr th {\n",
       "        vertical-align: top;\n",
       "    }\n",
       "\n",
       "    .dataframe thead th {\n",
       "        text-align: right;\n",
       "    }\n",
       "</style>\n",
       "<table border=\"1\" class=\"dataframe\">\n",
       "  <thead>\n",
       "    <tr style=\"text-align: right;\">\n",
       "      <th></th>\n",
       "      <th>Country</th>\n",
       "      <th>Date</th>\n",
       "      <th>Temperature (Celsius)</th>\n",
       "      <th>Humidity (%)</th>\n",
       "      <th>Wind Speed (km/h)</th>\n",
       "      <th>df</th>\n",
       "      <th>sum</th>\n",
       "      <th>rain</th>\n",
       "    </tr>\n",
       "  </thead>\n",
       "  <tbody>\n",
       "    <tr>\n",
       "      <th>0</th>\n",
       "      <td>United States</td>\n",
       "      <td>2023-05-01</td>\n",
       "      <td>22.5</td>\n",
       "      <td>60</td>\n",
       "      <td>10</td>\n",
       "      <td>-37.5</td>\n",
       "      <td>70</td>\n",
       "      <td>12</td>\n",
       "    </tr>\n",
       "    <tr>\n",
       "      <th>1</th>\n",
       "      <td>United States</td>\n",
       "      <td>2023-05-02</td>\n",
       "      <td>20.7</td>\n",
       "      <td>55</td>\n",
       "      <td>12</td>\n",
       "      <td>-34.3</td>\n",
       "      <td>67</td>\n",
       "      <td>12</td>\n",
       "    </tr>\n",
       "    <tr>\n",
       "      <th>2</th>\n",
       "      <td>United States</td>\n",
       "      <td>2023-05-03</td>\n",
       "      <td>25.2</td>\n",
       "      <td>68</td>\n",
       "      <td>8</td>\n",
       "      <td>-42.8</td>\n",
       "      <td>76</td>\n",
       "      <td>12</td>\n",
       "    </tr>\n",
       "    <tr>\n",
       "      <th>3</th>\n",
       "      <td>Canada</td>\n",
       "      <td>2023-05-01</td>\n",
       "      <td>18.9</td>\n",
       "      <td>50</td>\n",
       "      <td>15</td>\n",
       "      <td>-31.1</td>\n",
       "      <td>65</td>\n",
       "      <td>12</td>\n",
       "    </tr>\n",
       "    <tr>\n",
       "      <th>4</th>\n",
       "      <td>Canada</td>\n",
       "      <td>2023-05-02</td>\n",
       "      <td>17.4</td>\n",
       "      <td>48</td>\n",
       "      <td>13</td>\n",
       "      <td>-30.6</td>\n",
       "      <td>61</td>\n",
       "      <td>12</td>\n",
       "    </tr>\n",
       "    <tr>\n",
       "      <th>5</th>\n",
       "      <td>Canada</td>\n",
       "      <td>2023-05-03</td>\n",
       "      <td>20.1</td>\n",
       "      <td>52</td>\n",
       "      <td>10</td>\n",
       "      <td>-31.9</td>\n",
       "      <td>62</td>\n",
       "      <td>12</td>\n",
       "    </tr>\n",
       "    <tr>\n",
       "      <th>6</th>\n",
       "      <td>United Kingdom</td>\n",
       "      <td>2023-05-01</td>\n",
       "      <td>15.2</td>\n",
       "      <td>70</td>\n",
       "      <td>8</td>\n",
       "      <td>-54.8</td>\n",
       "      <td>78</td>\n",
       "      <td>12</td>\n",
       "    </tr>\n",
       "    <tr>\n",
       "      <th>7</th>\n",
       "      <td>United Kingdom</td>\n",
       "      <td>2023-05-02</td>\n",
       "      <td>14.8</td>\n",
       "      <td>72</td>\n",
       "      <td>9</td>\n",
       "      <td>-57.2</td>\n",
       "      <td>81</td>\n",
       "      <td>12</td>\n",
       "    </tr>\n",
       "    <tr>\n",
       "      <th>8</th>\n",
       "      <td>United Kingdom</td>\n",
       "      <td>2023-05-03</td>\n",
       "      <td>16.5</td>\n",
       "      <td>68</td>\n",
       "      <td>7</td>\n",
       "      <td>-51.5</td>\n",
       "      <td>75</td>\n",
       "      <td>12</td>\n",
       "    </tr>\n",
       "    <tr>\n",
       "      <th>9</th>\n",
       "      <td>Germany</td>\n",
       "      <td>2023-05-01</td>\n",
       "      <td>20.7</td>\n",
       "      <td>60</td>\n",
       "      <td>11</td>\n",
       "      <td>-39.3</td>\n",
       "      <td>71</td>\n",
       "      <td>12</td>\n",
       "    </tr>\n",
       "    <tr>\n",
       "      <th>10</th>\n",
       "      <td>Germany</td>\n",
       "      <td>2023-05-02</td>\n",
       "      <td>22.1</td>\n",
       "      <td>62</td>\n",
       "      <td>10</td>\n",
       "      <td>-39.9</td>\n",
       "      <td>72</td>\n",
       "      <td>12</td>\n",
       "    </tr>\n",
       "    <tr>\n",
       "      <th>11</th>\n",
       "      <td>Germany</td>\n",
       "      <td>2023-05-03</td>\n",
       "      <td>19.8</td>\n",
       "      <td>58</td>\n",
       "      <td>12</td>\n",
       "      <td>-38.2</td>\n",
       "      <td>70</td>\n",
       "      <td>12</td>\n",
       "    </tr>\n",
       "  </tbody>\n",
       "</table>\n",
       "</div>"
      ],
      "text/plain": [
       "           Country        Date  Temperature (Celsius)  Humidity (%)   \n",
       "0    United States  2023-05-01                   22.5            60  \\\n",
       "1    United States  2023-05-02                   20.7            55   \n",
       "2    United States  2023-05-03                   25.2            68   \n",
       "3           Canada  2023-05-01                   18.9            50   \n",
       "4           Canada  2023-05-02                   17.4            48   \n",
       "5           Canada  2023-05-03                   20.1            52   \n",
       "6   United Kingdom  2023-05-01                   15.2            70   \n",
       "7   United Kingdom  2023-05-02                   14.8            72   \n",
       "8   United Kingdom  2023-05-03                   16.5            68   \n",
       "9          Germany  2023-05-01                   20.7            60   \n",
       "10         Germany  2023-05-02                   22.1            62   \n",
       "11         Germany  2023-05-03                   19.8            58   \n",
       "\n",
       "    Wind Speed (km/h)    df  sum  rain  \n",
       "0                  10 -37.5   70    12  \n",
       "1                  12 -34.3   67    12  \n",
       "2                   8 -42.8   76    12  \n",
       "3                  15 -31.1   65    12  \n",
       "4                  13 -30.6   61    12  \n",
       "5                  10 -31.9   62    12  \n",
       "6                   8 -54.8   78    12  \n",
       "7                   9 -57.2   81    12  \n",
       "8                   7 -51.5   75    12  \n",
       "9                  11 -39.3   71    12  \n",
       "10                 10 -39.9   72    12  \n",
       "11                 12 -38.2   70    12  "
      ]
     },
     "execution_count": 78,
     "metadata": {},
     "output_type": "execute_result"
    }
   ],
   "source": [
    "climate['rain'] = 12\n",
    "climate"
   ]
  },
  {
   "cell_type": "code",
   "execution_count": 79,
   "id": "e2aa92c5-038d-4ff5-9454-85f90463bdd4",
   "metadata": {},
   "outputs": [
    {
     "data": {
      "text/html": [
       "<div>\n",
       "<style scoped>\n",
       "    .dataframe tbody tr th:only-of-type {\n",
       "        vertical-align: middle;\n",
       "    }\n",
       "\n",
       "    .dataframe tbody tr th {\n",
       "        vertical-align: top;\n",
       "    }\n",
       "\n",
       "    .dataframe thead th {\n",
       "        text-align: right;\n",
       "    }\n",
       "</style>\n",
       "<table border=\"1\" class=\"dataframe\">\n",
       "  <thead>\n",
       "    <tr style=\"text-align: right;\">\n",
       "      <th></th>\n",
       "      <th>Country</th>\n",
       "      <th>Date</th>\n",
       "      <th>Temperature (Celsius)</th>\n",
       "      <th>Humidity (%)</th>\n",
       "      <th>Wind Speed (km/h)</th>\n",
       "      <th>df</th>\n",
       "      <th>rain</th>\n",
       "    </tr>\n",
       "  </thead>\n",
       "  <tbody>\n",
       "    <tr>\n",
       "      <th>0</th>\n",
       "      <td>United States</td>\n",
       "      <td>2023-05-01</td>\n",
       "      <td>22.5</td>\n",
       "      <td>60</td>\n",
       "      <td>10</td>\n",
       "      <td>-37.5</td>\n",
       "      <td>12</td>\n",
       "    </tr>\n",
       "    <tr>\n",
       "      <th>1</th>\n",
       "      <td>United States</td>\n",
       "      <td>2023-05-02</td>\n",
       "      <td>20.7</td>\n",
       "      <td>55</td>\n",
       "      <td>12</td>\n",
       "      <td>-34.3</td>\n",
       "      <td>12</td>\n",
       "    </tr>\n",
       "    <tr>\n",
       "      <th>2</th>\n",
       "      <td>United States</td>\n",
       "      <td>2023-05-03</td>\n",
       "      <td>25.2</td>\n",
       "      <td>68</td>\n",
       "      <td>8</td>\n",
       "      <td>-42.8</td>\n",
       "      <td>12</td>\n",
       "    </tr>\n",
       "    <tr>\n",
       "      <th>3</th>\n",
       "      <td>Canada</td>\n",
       "      <td>2023-05-01</td>\n",
       "      <td>18.9</td>\n",
       "      <td>50</td>\n",
       "      <td>15</td>\n",
       "      <td>-31.1</td>\n",
       "      <td>12</td>\n",
       "    </tr>\n",
       "    <tr>\n",
       "      <th>4</th>\n",
       "      <td>Canada</td>\n",
       "      <td>2023-05-02</td>\n",
       "      <td>17.4</td>\n",
       "      <td>48</td>\n",
       "      <td>13</td>\n",
       "      <td>-30.6</td>\n",
       "      <td>12</td>\n",
       "    </tr>\n",
       "    <tr>\n",
       "      <th>5</th>\n",
       "      <td>Canada</td>\n",
       "      <td>2023-05-03</td>\n",
       "      <td>20.1</td>\n",
       "      <td>52</td>\n",
       "      <td>10</td>\n",
       "      <td>-31.9</td>\n",
       "      <td>12</td>\n",
       "    </tr>\n",
       "    <tr>\n",
       "      <th>6</th>\n",
       "      <td>United Kingdom</td>\n",
       "      <td>2023-05-01</td>\n",
       "      <td>15.2</td>\n",
       "      <td>70</td>\n",
       "      <td>8</td>\n",
       "      <td>-54.8</td>\n",
       "      <td>12</td>\n",
       "    </tr>\n",
       "    <tr>\n",
       "      <th>7</th>\n",
       "      <td>United Kingdom</td>\n",
       "      <td>2023-05-02</td>\n",
       "      <td>14.8</td>\n",
       "      <td>72</td>\n",
       "      <td>9</td>\n",
       "      <td>-57.2</td>\n",
       "      <td>12</td>\n",
       "    </tr>\n",
       "    <tr>\n",
       "      <th>8</th>\n",
       "      <td>United Kingdom</td>\n",
       "      <td>2023-05-03</td>\n",
       "      <td>16.5</td>\n",
       "      <td>68</td>\n",
       "      <td>7</td>\n",
       "      <td>-51.5</td>\n",
       "      <td>12</td>\n",
       "    </tr>\n",
       "    <tr>\n",
       "      <th>9</th>\n",
       "      <td>Germany</td>\n",
       "      <td>2023-05-01</td>\n",
       "      <td>20.7</td>\n",
       "      <td>60</td>\n",
       "      <td>11</td>\n",
       "      <td>-39.3</td>\n",
       "      <td>12</td>\n",
       "    </tr>\n",
       "    <tr>\n",
       "      <th>10</th>\n",
       "      <td>Germany</td>\n",
       "      <td>2023-05-02</td>\n",
       "      <td>22.1</td>\n",
       "      <td>62</td>\n",
       "      <td>10</td>\n",
       "      <td>-39.9</td>\n",
       "      <td>12</td>\n",
       "    </tr>\n",
       "    <tr>\n",
       "      <th>11</th>\n",
       "      <td>Germany</td>\n",
       "      <td>2023-05-03</td>\n",
       "      <td>19.8</td>\n",
       "      <td>58</td>\n",
       "      <td>12</td>\n",
       "      <td>-38.2</td>\n",
       "      <td>12</td>\n",
       "    </tr>\n",
       "  </tbody>\n",
       "</table>\n",
       "</div>"
      ],
      "text/plain": [
       "           Country        Date  Temperature (Celsius)  Humidity (%)   \n",
       "0    United States  2023-05-01                   22.5            60  \\\n",
       "1    United States  2023-05-02                   20.7            55   \n",
       "2    United States  2023-05-03                   25.2            68   \n",
       "3           Canada  2023-05-01                   18.9            50   \n",
       "4           Canada  2023-05-02                   17.4            48   \n",
       "5           Canada  2023-05-03                   20.1            52   \n",
       "6   United Kingdom  2023-05-01                   15.2            70   \n",
       "7   United Kingdom  2023-05-02                   14.8            72   \n",
       "8   United Kingdom  2023-05-03                   16.5            68   \n",
       "9          Germany  2023-05-01                   20.7            60   \n",
       "10         Germany  2023-05-02                   22.1            62   \n",
       "11         Germany  2023-05-03                   19.8            58   \n",
       "\n",
       "    Wind Speed (km/h)    df  rain  \n",
       "0                  10 -37.5    12  \n",
       "1                  12 -34.3    12  \n",
       "2                   8 -42.8    12  \n",
       "3                  15 -31.1    12  \n",
       "4                  13 -30.6    12  \n",
       "5                  10 -31.9    12  \n",
       "6                   8 -54.8    12  \n",
       "7                   9 -57.2    12  \n",
       "8                   7 -51.5    12  \n",
       "9                  11 -39.3    12  \n",
       "10                 10 -39.9    12  \n",
       "11                 12 -38.2    12  "
      ]
     },
     "execution_count": 79,
     "metadata": {},
     "output_type": "execute_result"
    }
   ],
   "source": [
    "climate = climate.drop(['sum'], axis=1)\n",
    "climate"
   ]
  },
  {
   "cell_type": "code",
   "execution_count": 83,
   "id": "84e718cb-cf2f-493d-be98-eb04273768d6",
   "metadata": {},
   "outputs": [
    {
     "data": {
      "text/html": [
       "<div>\n",
       "<style scoped>\n",
       "    .dataframe tbody tr th:only-of-type {\n",
       "        vertical-align: middle;\n",
       "    }\n",
       "\n",
       "    .dataframe tbody tr th {\n",
       "        vertical-align: top;\n",
       "    }\n",
       "\n",
       "    .dataframe thead th {\n",
       "        text-align: right;\n",
       "    }\n",
       "</style>\n",
       "<table border=\"1\" class=\"dataframe\">\n",
       "  <thead>\n",
       "    <tr style=\"text-align: right;\">\n",
       "      <th></th>\n",
       "      <th>Country</th>\n",
       "      <th>Date</th>\n",
       "      <th>Temperature (Celsius)</th>\n",
       "      <th>Humidity (%)</th>\n",
       "      <th>Wind Speed (km/h)</th>\n",
       "      <th>df</th>\n",
       "      <th>rain</th>\n",
       "    </tr>\n",
       "  </thead>\n",
       "  <tbody>\n",
       "    <tr>\n",
       "      <th>0</th>\n",
       "      <td>United States</td>\n",
       "      <td>2023-05-01</td>\n",
       "      <td>22.5</td>\n",
       "      <td>60</td>\n",
       "      <td>10</td>\n",
       "      <td>-37.5</td>\n",
       "      <td>12</td>\n",
       "    </tr>\n",
       "    <tr>\n",
       "      <th>2</th>\n",
       "      <td>United States</td>\n",
       "      <td>2023-05-03</td>\n",
       "      <td>25.2</td>\n",
       "      <td>68</td>\n",
       "      <td>8</td>\n",
       "      <td>-42.8</td>\n",
       "      <td>12</td>\n",
       "    </tr>\n",
       "    <tr>\n",
       "      <th>10</th>\n",
       "      <td>Germany</td>\n",
       "      <td>2023-05-02</td>\n",
       "      <td>22.1</td>\n",
       "      <td>62</td>\n",
       "      <td>10</td>\n",
       "      <td>-39.9</td>\n",
       "      <td>12</td>\n",
       "    </tr>\n",
       "  </tbody>\n",
       "</table>\n",
       "</div>"
      ],
      "text/plain": [
       "          Country        Date  Temperature (Celsius)  Humidity (%)   \n",
       "0   United States  2023-05-01                   22.5            60  \\\n",
       "2   United States  2023-05-03                   25.2            68   \n",
       "10        Germany  2023-05-02                   22.1            62   \n",
       "\n",
       "    Wind Speed (km/h)    df  rain  \n",
       "0                  10 -37.5    12  \n",
       "2                   8 -42.8    12  \n",
       "10                 10 -39.9    12  "
      ]
     },
     "execution_count": 83,
     "metadata": {},
     "output_type": "execute_result"
    }
   ],
   "source": [
    "climate[climate['Temperature (Celsius)'] > 22]"
   ]
  },
  {
   "cell_type": "code",
   "execution_count": 85,
   "id": "d683dc9c-bb21-4b2c-9c0a-7d6a20a52485",
   "metadata": {},
   "outputs": [
    {
     "data": {
      "text/html": [
       "<div>\n",
       "<style scoped>\n",
       "    .dataframe tbody tr th:only-of-type {\n",
       "        vertical-align: middle;\n",
       "    }\n",
       "\n",
       "    .dataframe tbody tr th {\n",
       "        vertical-align: top;\n",
       "    }\n",
       "\n",
       "    .dataframe thead th {\n",
       "        text-align: right;\n",
       "    }\n",
       "</style>\n",
       "<table border=\"1\" class=\"dataframe\">\n",
       "  <thead>\n",
       "    <tr style=\"text-align: right;\">\n",
       "      <th></th>\n",
       "      <th>Country</th>\n",
       "      <th>Date</th>\n",
       "      <th>Temperature (Celsius)</th>\n",
       "      <th>Humidity (%)</th>\n",
       "      <th>Wind Speed (km/h)</th>\n",
       "      <th>df</th>\n",
       "      <th>rain</th>\n",
       "    </tr>\n",
       "  </thead>\n",
       "  <tbody>\n",
       "    <tr>\n",
       "      <th>3</th>\n",
       "      <td>Canada</td>\n",
       "      <td>2023-05-01</td>\n",
       "      <td>18.9</td>\n",
       "      <td>50</td>\n",
       "      <td>15</td>\n",
       "      <td>-31.1</td>\n",
       "      <td>12</td>\n",
       "    </tr>\n",
       "    <tr>\n",
       "      <th>5</th>\n",
       "      <td>Canada</td>\n",
       "      <td>2023-05-03</td>\n",
       "      <td>20.1</td>\n",
       "      <td>52</td>\n",
       "      <td>10</td>\n",
       "      <td>-31.9</td>\n",
       "      <td>12</td>\n",
       "    </tr>\n",
       "  </tbody>\n",
       "</table>\n",
       "</div>"
      ],
      "text/plain": [
       "  Country        Date  Temperature (Celsius)  Humidity (%)  Wind Speed (km/h)   \n",
       "3  Canada  2023-05-01                   18.9            50                 15  \\\n",
       "5  Canada  2023-05-03                   20.1            52                 10   \n",
       "\n",
       "     df  rain  \n",
       "3 -31.1    12  \n",
       "5 -31.9    12  "
      ]
     },
     "execution_count": 85,
     "metadata": {},
     "output_type": "execute_result"
    }
   ],
   "source": [
    "new_filter = (climate['Temperature (Celsius)'] == 18.9) | (climate['Temperature (Celsius)'] == 20.1)\n",
    "climate[new_filter]"
   ]
  },
  {
   "cell_type": "code",
   "execution_count": null,
   "id": "77760884-17fb-43d2-8517-c0314d8ffd7f",
   "metadata": {},
   "outputs": [],
   "source": [
    "new_filter = climate['Temperature (Celsius)'].isin([18.9,20.1])\n",
    "climate[sel]"
   ]
  },
  {
   "cell_type": "markdown",
   "id": "8154662a-0758-4f8a-8f7e-b3c4ee11a493",
   "metadata": {},
   "source": [
    "Reference: https://jupyter.org https://the-turing-way.netlify.app/communication/binder/zero-to-binder.html https://docs.python.org https://wsform.com/knowledgebase/sample-csv-files/ https://geobgu.xyz/py/"
   ]
  },
  {
   "cell_type": "code",
   "execution_count": null,
   "id": "2905ae14-ea8a-44d3-b166-75011baae184",
   "metadata": {},
   "outputs": [],
   "source": []
  }
 ],
 "metadata": {
  "kernelspec": {
   "display_name": "Python 3 (ipykernel)",
   "language": "python",
   "name": "python3"
  },
  "language_info": {
   "codemirror_mode": {
    "name": "ipython",
    "version": 3
   },
   "file_extension": ".py",
   "mimetype": "text/x-python",
   "name": "python",
   "nbconvert_exporter": "python",
   "pygments_lexer": "ipython3",
   "version": "3.10.10"
  }
 },
 "nbformat": 4,
 "nbformat_minor": 5
}
