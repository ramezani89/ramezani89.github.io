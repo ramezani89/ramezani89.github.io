{
 "cells": [
  {
   "cell_type": "code",
   "execution_count": null,
   "id": "3d7bce56-dcdc-4894-81af-043167a5cc16",
   "metadata": {
    "tags": []
   },
   "outputs": [],
   "source": [
    "import numpy as np"
   ]
  },
  {
   "cell_type": "code",
   "execution_count": null,
   "id": "867599ca-89de-47c1-b68b-2de31bb82784",
   "metadata": {},
   "outputs": [],
   "source": [
    "import pandas as pd"
   ]
  },
  {
   "cell_type": "code",
   "execution_count": null,
   "id": "add1aebb-3df7-4d8e-8aaf-b50832c69f9b",
   "metadata": {},
   "outputs": [],
   "source": [
    "import matplotlib.pyplot as plt"
   ]
  },
  {
   "cell_type": "code",
   "execution_count": null,
   "id": "21386a82-7d4e-4fd1-a415-bd31570e3e4c",
   "metadata": {},
   "outputs": [],
   "source": [
    "climate = pd.read_csv('climate.csv')\n",
    "print(climate)"
   ]
  },
  {
   "cell_type": "code",
   "execution_count": null,
   "id": "ab706b7c-bd53-4206-85b5-e4a6f46140b0",
   "metadata": {},
   "outputs": [],
   "source": [
    "##filtering and assign"
   ]
  },
  {
   "cell_type": "code",
   "execution_count": null,
   "id": "c8b74a46-f14a-48a5-933e-b2e6053e28b2",
   "metadata": {},
   "outputs": [],
   "source": [
    "climate[climate['Temperature (Celsius)'] > 22]"
   ]
  },
  {
   "cell_type": "code",
   "execution_count": null,
   "id": "20f30669-3bee-4d9a-bd60-3c72c16ec323",
   "metadata": {},
   "outputs": [],
   "source": [
    "new_filter = (climate['Temperature (Celsius)'] == 18.9) | (climate['Temperature (Celsius)'] == 20.1)\n",
    "climate[new_filter]"
   ]
  },
  {
   "cell_type": "code",
   "execution_count": null,
   "id": "c73fb836-e5bf-43db-bca1-785b82b6928d",
   "metadata": {},
   "outputs": [],
   "source": [
    "new_filter = climate['Temperature (Celsius)'].isin([18.9,20.1])\n",
    "climate[new_filter]"
   ]
  },
  {
   "cell_type": "code",
   "execution_count": null,
   "id": "d7755eda-c5be-406d-88b2-d2570d632f72",
   "metadata": {},
   "outputs": [],
   "source": [
    "climate.loc[climate['Temperature (Celsius)'] > 18.9, 'Temperature (Celsius)'] = 20\n",
    "climate"
   ]
  },
  {
   "cell_type": "markdown",
   "id": "41b6b8e2-36ae-401b-9afb-77211205839f",
   "metadata": {},
   "source": [
    "Exercise 1: substitute the humidity values above 60 with 65 in the 'Humidity (%)' column of the 'climate' DataFrame"
   ]
  },
  {
   "cell_type": "code",
   "execution_count": null,
   "id": "838c037e-6204-4df6-9c39-affb8c665411",
   "metadata": {},
   "outputs": [],
   "source": [
    "climate.loc[climate['Humidity (%)'] > 60, 'Humidity (%)'] = 65\n",
    "climate"
   ]
  },
  {
   "cell_type": "code",
   "execution_count": null,
   "id": "2bf878d0-965e-40c3-b6c9-1b9ec3fdff6a",
   "metadata": {},
   "outputs": [],
   "source": [
    "##copy"
   ]
  },
  {
   "cell_type": "code",
   "execution_count": null,
   "id": "2e505aa1-a08d-4252-bc99-f3b88263c8c2",
   "metadata": {},
   "outputs": [],
   "source": [
    "currency = pd.read_csv('currency.csv')\n",
    "print(currency)"
   ]
  },
  {
   "cell_type": "code",
   "execution_count": null,
   "id": "0554d6c7-3c8f-43bb-ab82-588693cbd174",
   "metadata": {},
   "outputs": [],
   "source": [
    "currency2 = currency"
   ]
  },
  {
   "cell_type": "code",
   "execution_count": null,
   "id": "f4a44bdc-a803-4c94-be9f-054381f5592f",
   "metadata": {},
   "outputs": [],
   "source": [
    "currency2.iloc[1, 1] = 50\n",
    "currency2"
   ]
  },
  {
   "cell_type": "code",
   "execution_count": null,
   "id": "45e95c13-a066-43e7-88ac-c31a39aec9b7",
   "metadata": {},
   "outputs": [],
   "source": [
    "currency"
   ]
  },
  {
   "cell_type": "code",
   "execution_count": null,
   "id": "a0e82706-8914-4fc3-819a-005d3d937315",
   "metadata": {},
   "outputs": [],
   "source": [
    "currency = pd.read_csv('currency.csv')\n",
    "print(currency)"
   ]
  },
  {
   "cell_type": "code",
   "execution_count": null,
   "id": "3cb0179d-5161-40d6-b599-27bb5ca6df94",
   "metadata": {},
   "outputs": [],
   "source": [
    "currency2 = currency.copy()"
   ]
  },
  {
   "cell_type": "code",
   "execution_count": null,
   "id": "99a79d7a-6331-456e-be5f-ba291f4e2a8c",
   "metadata": {},
   "outputs": [],
   "source": [
    "currency2.iloc[1, 1] = 50\n",
    "currency2"
   ]
  },
  {
   "cell_type": "code",
   "execution_count": null,
   "id": "033804a9-26ff-4822-a3ff-1e4571e0f290",
   "metadata": {},
   "outputs": [],
   "source": [
    "currency"
   ]
  },
  {
   "cell_type": "markdown",
   "id": "13718f0e-a721-48ba-8e85-7b3b72cc0c64",
   "metadata": {},
   "source": [
    "Exercise 2: read in the climate.csv file again, make a copy of the table, substitude the wind speeds equall to 13 and 8 with 10 (with both conditional and isin methods) and creat a plot of wind speed with respect to the countries name, include title, labels and legend in your figure"
   ]
  },
  {
   "cell_type": "code",
   "execution_count": null,
   "id": "10f970e6-3a7c-42c6-8106-fc9d54b9836b",
   "metadata": {},
   "outputs": [],
   "source": [
    "climate = pd.read_csv('climate.csv')"
   ]
  },
  {
   "cell_type": "code",
   "execution_count": null,
   "id": "dcc16593-700a-456b-8394-0f549ec6a1ce",
   "metadata": {},
   "outputs": [],
   "source": [
    "climate_copy = climate.copy()"
   ]
  },
  {
   "cell_type": "code",
   "execution_count": null,
   "id": "fed608a2-db5c-4628-b96f-ad0b077c4564",
   "metadata": {},
   "outputs": [],
   "source": [
    "climate_copy.loc[climate_copy['Wind Speed (km/h)'] == 13, 'Wind Speed (km/h)'] = 10\n",
    "climate_copy.loc[climate_copy['Wind Speed (km/h)'] == 8, 'Wind Speed (km/h)'] = 10"
   ]
  },
  {
   "cell_type": "code",
   "execution_count": null,
   "id": "6f5df2cf-a873-4f14-bc8d-96d66cef7cdd",
   "metadata": {},
   "outputs": [],
   "source": [
    "climate_copy.loc[climate_copy['Wind Speed (km/h)'].isin([13, 8]), 'Wind Speed (km/h)'] = 10"
   ]
  },
  {
   "cell_type": "code",
   "execution_count": null,
   "id": "40ae2f6c-0f46-4e64-895d-aca7a2129833",
   "metadata": {},
   "outputs": [],
   "source": [
    "climate_copy.plot(x='Country', y='Wind Speed (km/h)');\n",
    "plt.title('Wind Speed in Different Countries');\n",
    "plt.xticks(rotation=45, ha='right');\n",
    "plt.xlabel('Country');\n",
    "plt.ylabel('Wind Speed');\n",
    "plt.legend();\n",
    "plt.show()"
   ]
  },
  {
   "cell_type": "markdown",
   "id": "1a1c1213-de2d-44ef-9255-897380132353",
   "metadata": {},
   "source": [
    "Exercise 3: Make a copy of the currency file in which the value in the 2nd row and 3rd column has been substituted, and save this new file."
   ]
  },
  {
   "cell_type": "code",
   "execution_count": null,
   "id": "c12e68ab-4728-493f-836c-fe12b4117f5e",
   "metadata": {},
   "outputs": [],
   "source": [
    "currency_data = pd.read_csv('currency.csv')\n",
    "currency_data_copy = currency_data.copy()\n",
    "currency_data_copy.iloc[1, 2]=10\n",
    "currency_data_copy.to_csv('currency_modified.csv', index=False)"
   ]
  },
  {
   "cell_type": "code",
   "execution_count": null,
   "id": "1a344113-65ab-4cf8-b483-e58cbf43be92",
   "metadata": {},
   "outputs": [],
   "source": [
    "###spatial data"
   ]
  },
  {
   "cell_type": "code",
   "execution_count": null,
   "id": "b0c640f6-0de2-43bf-a7e2-3f9c10e56718",
   "metadata": {},
   "outputs": [],
   "source": [
    "import shapely.geometry"
   ]
  },
  {
   "cell_type": "code",
   "execution_count": null,
   "id": "46f6feff-5920-4578-b059-f0bfd12d0e6e",
   "metadata": {},
   "outputs": [],
   "source": [
    "import shapely.wkt"
   ]
  },
  {
   "cell_type": "code",
   "execution_count": null,
   "id": "72ad0e0c-efc7-4aa0-a4a1-c19ec46e6117",
   "metadata": {},
   "outputs": [],
   "source": [
    "point = shapely.wkt.loads('POINT (0 -1)')\n",
    "point"
   ]
  },
  {
   "cell_type": "code",
   "execution_count": null,
   "id": "087b21d1-d975-4ca9-8994-ffd8b0e61395",
   "metadata": {},
   "outputs": [],
   "source": [
    "line = shapely.wkt.loads('LINESTRING (0 0, 0 -1, 7 8)')\n",
    "line"
   ]
  },
  {
   "cell_type": "code",
   "execution_count": null,
   "id": "eaeb4d5b-8a24-4e19-9e5f-32d51f25f844",
   "metadata": {},
   "outputs": [],
   "source": [
    "pol= shapely.wkt.loads('POLYGON ((0 0, 0 -2, 10 -2, 10 0, 0 0))')\n",
    "pol"
   ]
  },
  {
   "cell_type": "code",
   "execution_count": null,
   "id": "4bcefa0a-d5c8-4cc7-8358-47eb36420418",
   "metadata": {},
   "outputs": [],
   "source": [
    "multipoint = shapely.wkt.loads('MULTIPOINT ((0 0), (1 1), (2 2))')\n",
    "multipoint"
   ]
  },
  {
   "cell_type": "code",
   "execution_count": null,
   "id": "a6b95cdf-d3ae-40a3-965f-75537370302e",
   "metadata": {},
   "outputs": [],
   "source": [
    "multilinestring = shapely.wkt.loads('MULTILINESTRING ((0 0, 1 1), (2 2, 3 3))')\n",
    "multilinestring"
   ]
  },
  {
   "cell_type": "code",
   "execution_count": null,
   "id": "ce785630-6f47-4a35-ab5f-6d959fcc2102",
   "metadata": {},
   "outputs": [],
   "source": [
    "multipolygon = shapely.wkt.loads('MULTIPOLYGON (((0 0, 0 1, 1 1, 1 0, 0 0)), ((2 2, 2 3, 3 3, 3 2, 2 2)))')\n",
    "multipolygon"
   ]
  },
  {
   "cell_type": "code",
   "execution_count": null,
   "id": "bfc6d1b8-02e5-43af-8eb5-008f33edb92b",
   "metadata": {},
   "outputs": [],
   "source": [
    "collection = shapely.wkt.loads('GEOMETRYCOLLECTION (POINT (1 2), LINESTRING (1 2, 3 4))')\n",
    "collection"
   ]
  },
  {
   "cell_type": "markdown",
   "id": "6c247e59-6816-43d4-978d-c81b5e4e1352",
   "metadata": {},
   "source": [
    "Exercise 4: Create a GeometryCollection with a MultiPoint, a MultiLineString, and a MultiPolygon using shapely.wkt.loads"
   ]
  },
  {
   "cell_type": "code",
   "execution_count": null,
   "id": "c1b1ac20-0535-4bd6-a75f-e5e292b053a6",
   "metadata": {},
   "outputs": [],
   "source": [
    "collection = shapely.wkt.loads('GEOMETRYCOLLECTION (MULTIPOINT ((0 0), (1 1), (2 2)), MULTILINESTRING ((0 0, 1 1), (2 2, 3 3)), MULTIPOLYGON (((0 0, 1 0, 1 1, 0 0)), ((2 2, 3 2, 3 3, 2 2))))')\n",
    "collection"
   ]
  },
  {
   "cell_type": "code",
   "execution_count": null,
   "id": "3ba145a5-62cb-42c5-a011-f90be0e159b0",
   "metadata": {},
   "outputs": [],
   "source": [
    "point2 = shapely.geometry.Point((1,4))\n",
    "point2"
   ]
  },
  {
   "cell_type": "code",
   "execution_count": null,
   "id": "05898b44-3fcf-4df5-8194-0c98b8f8fd90",
   "metadata": {},
   "outputs": [],
   "source": [
    "geometric = [(1,2), (-3,5)]\n",
    "line2 = shapely.geometry.LineString(geometric)\n",
    "line2"
   ]
  },
  {
   "cell_type": "markdown",
   "id": "f6889474-5b78-459d-bc71-f00c8acf31c7",
   "metadata": {},
   "source": [
    "Exercise 5: create a MultiLineString using shapely.geometry.MultiLineString"
   ]
  },
  {
   "cell_type": "code",
   "execution_count": null,
   "id": "e9a49e09-27a6-45f0-a8ee-7d5dd37c5b5a",
   "metadata": {},
   "outputs": [],
   "source": [
    "line1 = [(0, 0), (1, 1), (2, 2)]\n",
    "line2 = [(3, 3), (4, 4), (5, 5)]\n",
    "multi_line = shapely.geometry.MultiLineString([line1, line2])\n",
    "multi_line"
   ]
  },
  {
   "cell_type": "code",
   "execution_count": null,
   "id": "d2d1adb9-c99b-40b2-86f3-197a4c4d6189",
   "metadata": {},
   "outputs": [],
   "source": [
    "pol = shapely.wkt.loads('POLYGON ((0 0, 0 -2, 10 -2, 10 0, 0 0))')\n",
    "coordinates = [(0, 0), (0, 1), (1, 1), (1, 0)]\n",
    "pol2 = shapely.geometry.Polygon(coordinates)\n",
    "shapely.geometry.MultiPolygon([pol,pol2])"
   ]
  },
  {
   "cell_type": "code",
   "execution_count": null,
   "id": "dd91b4c9-22a0-4b20-a319-7427297de3eb",
   "metadata": {},
   "outputs": [],
   "source": [
    "line3 = {\"type\": \"LineString\", \"coordinates\": [(0, 0), (1, 4), (2, 6)]}\n",
    "line3 = shapely.geometry.shape(line3)\n",
    "line3"
   ]
  },
  {
   "cell_type": "raw",
   "id": "40ea59d0-ae84-4d84-b8cd-04b6c45b0271",
   "metadata": {},
   "source": [
    "Exercise 6: create separate dictionaries for each geometry type (MultiPoint, MultiLineString, MultiPolygon), and then combine them into a GeometryCollection dictionary geom_collection = {'type': 'GeometryCollection', 'geometries':[point_geometry, line_geometry, poly_geometry]}"
   ]
  },
  {
   "cell_type": "code",
   "execution_count": null,
   "id": "bb7b210b-2f78-4b65-941b-3b89c581e1cf",
   "metadata": {},
   "outputs": [],
   "source": [
    "point_coords = [(0, 0), (1, 1), (2, 2)]\n",
    "point_geometry = {'type': 'MultiPoint', 'coordinates': point_coords}\n",
    "\n",
    "line_coords = [[(0, 0), (1, 1)], [(2, 2), (3, 3)]]\n",
    "line_geometry = {'type': 'MultiLineString', 'coordinates': line_coords}\n",
    "\n",
    "poly_coords1 = [[(0, 0), (1, 0), (1, 1), (0, 1)]]\n",
    "poly_coords2 = [[(2, 2), (3, 2), (3, 3), (2, 3)]]\n",
    "poly_geometry = {'type': 'MultiPolygon', 'coordinates': [poly_coords1, poly_coords2]}\n",
    "\n",
    "geom_collection = {'type': 'GeometryCollection', 'geometries': [point_geometry, line_geometry, poly_geometry]}\n",
    "\n",
    "geometry = shapely.geometry.shape(geom_collection)\n",
    "print(geometry)\n"
   ]
  },
  {
   "cell_type": "code",
   "execution_count": null,
   "id": "4e21dd0e-58b6-47b9-93ea-8c6b81a71a23",
   "metadata": {},
   "outputs": [],
   "source": [
    "point.geom_type"
   ]
  },
  {
   "cell_type": "code",
   "execution_count": null,
   "id": "d25f3ff2-1a87-42e7-946b-3cdaa429d264",
   "metadata": {},
   "outputs": [],
   "source": [
    "point.coords"
   ]
  },
  {
   "cell_type": "code",
   "execution_count": null,
   "id": "d48893cf-2eb2-45d8-b7f1-1f6302d5f222",
   "metadata": {},
   "outputs": [],
   "source": [
    "list(point.coords)"
   ]
  },
  {
   "cell_type": "markdown",
   "id": "1fe4c887-626e-4524-a548-eca83e6ae20d",
   "metadata": {},
   "source": [
    "Exercise 7: create a LineString using shapely.geometry.LineString and check for its type and coordinate"
   ]
  },
  {
   "cell_type": "code",
   "execution_count": null,
   "id": "b1f27005-8895-4b48-b322-e8a75a9403bb",
   "metadata": {},
   "outputs": [],
   "source": [
    "line_new = shapely.geometry.LineString([(0, 0), (1, 1), (2, 2)])\n",
    "print(line_new.geom_type)\n",
    "list(line_new.coords)"
   ]
  },
  {
   "cell_type": "code",
   "execution_count": null,
   "id": "beace1d1-b4b2-42fd-bee5-2128bff5c7a7",
   "metadata": {
    "tags": []
   },
   "outputs": [],
   "source": [
    "list(multi_line.geoms[0].coords)"
   ]
  },
  {
   "cell_type": "code",
   "execution_count": null,
   "id": "54e43bf9-1a38-4c06-b5fa-be7c571df354",
   "metadata": {},
   "outputs": [],
   "source": [
    "list(multi_line.geoms[1].coords)"
   ]
  },
  {
   "cell_type": "code",
   "execution_count": null,
   "id": "85243c68-e5ac-433a-9128-a8bf14d60f76",
   "metadata": {},
   "outputs": [],
   "source": [
    "print(multi_line.geom_type)"
   ]
  },
  {
   "cell_type": "markdown",
   "id": "48719bb9-e6e0-4729-aac4-4e6f8b020295",
   "metadata": {},
   "source": [
    "Exercise 8:create a MultiLineString with 3 lines with dict method and check for its type and coordinate"
   ]
  },
  {
   "cell_type": "code",
   "execution_count": null,
   "id": "b34f1e4c-a4c9-4d57-889e-277a7294c25f",
   "metadata": {},
   "outputs": [],
   "source": [
    "line1_n = [[(0, 0), (1, 1), (2, 2)], [(3, 3), (4, 4), (5, 5)], [(6, 6), (7, 7), (8, 8)]]\n",
    "line1_nn = {\"type\": \"MultiLineString\", \"coordinates\": line1_n}\n",
    "line1_nn = shapely.geometry.shape(line1_nn)\n",
    "print(line1_nn.geom_type)\n",
    "print(list(line1_nn.geoms[0].coords))\n",
    "print(list(line1_nn.geoms[1].coords))\n",
    "print(list(line1_nn.geoms[2].coords))"
   ]
  },
  {
   "cell_type": "code",
   "execution_count": null,
   "id": "29ce03ab-7e18-4d41-a57a-2d4e3d560344",
   "metadata": {},
   "outputs": [],
   "source": []
  }
 ],
 "metadata": {
  "kernelspec": {
   "display_name": "Python 3 (ipykernel)",
   "language": "python",
   "name": "python3"
  },
  "language_info": {
   "codemirror_mode": {
    "name": "ipython",
    "version": 3
   },
   "file_extension": ".py",
   "mimetype": "text/x-python",
   "name": "python",
   "nbconvert_exporter": "python",
   "pygments_lexer": "ipython3",
   "version": "3.10.10"
  }
 },
 "nbformat": 4,
 "nbformat_minor": 5
}
